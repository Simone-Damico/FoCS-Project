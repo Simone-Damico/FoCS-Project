{
 "cells": [
  {
   "cell_type": "markdown",
   "metadata": {},
   "source": [
    "# Progetto di Foundation of computer science"
   ]
  },
  {
   "cell_type": "markdown",
   "metadata": {},
   "source": [
    "### Corso di laurea in Data Science A.A 2019/2020"
   ]
  },
  {
   "cell_type": "markdown",
   "metadata": {},
   "source": [
    "### Simone D'Amico - 850369"
   ]
  },
  {
   "cell_type": "code",
   "execution_count": 1,
   "metadata": {},
   "outputs": [],
   "source": [
    "# Import delle libreire usate\n",
    "import pandas as pd\n",
    "import numpy as np"
   ]
  },
  {
   "cell_type": "code",
   "execution_count": 2,
   "metadata": {},
   "outputs": [],
   "source": [
    "# Caricamento del tempo di esecuzione di ogni cella\n",
    "%load_ext autotime\n",
    "\n",
    "# Definizione del formato per i numeri decimali, si mostra fino alla terza cifra decimale inclusa\n",
    "pd.set_option('display.float_format', lambda x: '%.3f' % x)\n",
    "pd.options.mode.chained_assignment = None"
   ]
  },
  {
   "cell_type": "markdown",
   "metadata": {},
   "source": [
    "### Caricamento dei dataset utilizzati"
   ]
  },
  {
   "cell_type": "code",
   "execution_count": 3,
   "metadata": {},
   "outputs": [
    {
     "name": "stdout",
     "output_type": "stream",
     "text": [
      "time: 23 s\n"
     ]
    }
   ],
   "source": [
    "# Per motivi di tempo e di memoria sono caricate dai dataset solo le colonne usate per i vari task\n",
    "\n",
    "df_loans_lenders = pd.read_csv('loans_lenders.csv')\n",
    "\n",
    "use_col_loans =['loan_id', 'loan_name', 'disburse_time', 'planned_expiration_time', \n",
    "                'country_name', 'loan_amount', 'country_code']\n",
    "date_type = ['disburse_time', 'planned_expiration_time']\n",
    "df_loans = pd.read_csv('loans.csv', usecols=use_col_loans, parse_dates=date_type)\n",
    "\n",
    "\n",
    "use_col_lenders =['permanent_name', 'city', 'state', 'country_code']\n",
    "df_lenders = pd.read_csv('lenders.csv', usecols=use_col_lenders)\n",
    "\n",
    "\n",
    "used_col_country = ['country_name', 'country_code', 'population', 'population_below_poverty_line']\n",
    "df_country_stats = pd.read_csv('country_stats.csv', usecols=used_col_country)"
   ]
  },
  {
   "cell_type": "markdown",
   "metadata": {},
   "source": [
    "### 1. Normalize the loan_lenders table. In the normalized table, each row must have one `loan_id` and one lender."
   ]
  },
  {
   "cell_type": "code",
   "execution_count": 4,
   "metadata": {
    "scrolled": true
   },
   "outputs": [
    {
     "name": "stdout",
     "output_type": "stream",
     "text": [
      "time: 40.7 s\n"
     ]
    }
   ],
   "source": [
    "# Partendo dal dataset df_loans_lenders si usano come indici loan_id, così si conservano durante l'esecuzione. \n",
    "# Ogni valore di lenders viene trasformato in una lista e, grazie a explode, \n",
    "# si ottengono le coppie (loan, specifico lender)\n",
    "df_loan_lender_norm = df_loans_lenders.set_index(['loan_id']).apply(\n",
    "    lambda x: x.str.split(', ').explode()).reset_index()"
   ]
  },
  {
   "cell_type": "code",
   "execution_count": 5,
   "metadata": {
    "scrolled": false
   },
   "outputs": [
    {
     "data": {
      "text/html": [
       "<div>\n",
       "<style scoped>\n",
       "    .dataframe tbody tr th:only-of-type {\n",
       "        vertical-align: middle;\n",
       "    }\n",
       "\n",
       "    .dataframe tbody tr th {\n",
       "        vertical-align: top;\n",
       "    }\n",
       "\n",
       "    .dataframe thead th {\n",
       "        text-align: right;\n",
       "    }\n",
       "</style>\n",
       "<table border=\"1\" class=\"dataframe\">\n",
       "  <thead>\n",
       "    <tr style=\"text-align: right;\">\n",
       "      <th></th>\n",
       "      <th>loan_id</th>\n",
       "      <th>lenders</th>\n",
       "    </tr>\n",
       "  </thead>\n",
       "  <tbody>\n",
       "    <tr>\n",
       "      <th>0</th>\n",
       "      <td>483693</td>\n",
       "      <td>muc888</td>\n",
       "    </tr>\n",
       "    <tr>\n",
       "      <th>1</th>\n",
       "      <td>483693</td>\n",
       "      <td>sam4326</td>\n",
       "    </tr>\n",
       "    <tr>\n",
       "      <th>2</th>\n",
       "      <td>483693</td>\n",
       "      <td>camaran3922</td>\n",
       "    </tr>\n",
       "    <tr>\n",
       "      <th>3</th>\n",
       "      <td>483693</td>\n",
       "      <td>lachheb1865</td>\n",
       "    </tr>\n",
       "    <tr>\n",
       "      <th>4</th>\n",
       "      <td>483693</td>\n",
       "      <td>rebecca3499</td>\n",
       "    </tr>\n",
       "  </tbody>\n",
       "</table>\n",
       "</div>"
      ],
      "text/plain": [
       "   loan_id      lenders\n",
       "0   483693       muc888\n",
       "1   483693      sam4326\n",
       "2   483693  camaran3922\n",
       "3   483693  lachheb1865\n",
       "4   483693  rebecca3499"
      ]
     },
     "execution_count": 5,
     "metadata": {},
     "output_type": "execute_result"
    },
    {
     "name": "stdout",
     "output_type": "stream",
     "text": [
      "time: 34.1 ms\n"
     ]
    }
   ],
   "source": [
    "df_loan_lender_norm.head()"
   ]
  },
  {
   "cell_type": "markdown",
   "metadata": {},
   "source": [
    "### 2. For each loan, add a column duration corresponding to the number of days between the disburse time and the planned expiration time. If any of those two dates is missing, also the duration must be missing."
   ]
  },
  {
   "cell_type": "code",
   "execution_count": 6,
   "metadata": {},
   "outputs": [
    {
     "name": "stdout",
     "output_type": "stream",
     "text": [
      "time: 97.9 ms\n"
     ]
    }
   ],
   "source": [
    "# Si calcola la differenza in giorni tra le colonne delle date e si considerano i giorni\n",
    "df_loans['diff_days'] = (df_loans['planned_expiration_time'] - df_loans['disburse_time']).dt.days"
   ]
  },
  {
   "cell_type": "code",
   "execution_count": 7,
   "metadata": {
    "scrolled": true
   },
   "outputs": [
    {
     "data": {
      "text/html": [
       "<div>\n",
       "<style scoped>\n",
       "    .dataframe tbody tr th:only-of-type {\n",
       "        vertical-align: middle;\n",
       "    }\n",
       "\n",
       "    .dataframe tbody tr th {\n",
       "        vertical-align: top;\n",
       "    }\n",
       "\n",
       "    .dataframe thead th {\n",
       "        text-align: right;\n",
       "    }\n",
       "</style>\n",
       "<table border=\"1\" class=\"dataframe\">\n",
       "  <thead>\n",
       "    <tr style=\"text-align: right;\">\n",
       "      <th></th>\n",
       "      <th>loan_id</th>\n",
       "      <th>loan_name</th>\n",
       "      <th>loan_amount</th>\n",
       "      <th>country_code</th>\n",
       "      <th>country_name</th>\n",
       "      <th>planned_expiration_time</th>\n",
       "      <th>disburse_time</th>\n",
       "      <th>diff_days</th>\n",
       "    </tr>\n",
       "  </thead>\n",
       "  <tbody>\n",
       "    <tr>\n",
       "      <th>0</th>\n",
       "      <td>657307</td>\n",
       "      <td>Aivy</td>\n",
       "      <td>125.000</td>\n",
       "      <td>PH</td>\n",
       "      <td>Philippines</td>\n",
       "      <td>2014-02-14 03:30:06+00:00</td>\n",
       "      <td>2013-12-22 08:00:00+00:00</td>\n",
       "      <td>53.000</td>\n",
       "    </tr>\n",
       "    <tr>\n",
       "      <th>1</th>\n",
       "      <td>657259</td>\n",
       "      <td>Idalia Marizza</td>\n",
       "      <td>400.000</td>\n",
       "      <td>HN</td>\n",
       "      <td>Honduras</td>\n",
       "      <td>2014-03-26 22:25:07+00:00</td>\n",
       "      <td>2013-12-20 08:00:00+00:00</td>\n",
       "      <td>96.000</td>\n",
       "    </tr>\n",
       "    <tr>\n",
       "      <th>2</th>\n",
       "      <td>658010</td>\n",
       "      <td>Aasia</td>\n",
       "      <td>400.000</td>\n",
       "      <td>PK</td>\n",
       "      <td>Pakistan</td>\n",
       "      <td>2014-02-15 21:10:05+00:00</td>\n",
       "      <td>2014-01-09 08:00:00+00:00</td>\n",
       "      <td>37.000</td>\n",
       "    </tr>\n",
       "    <tr>\n",
       "      <th>3</th>\n",
       "      <td>659347</td>\n",
       "      <td>Gulmira</td>\n",
       "      <td>625.000</td>\n",
       "      <td>KG</td>\n",
       "      <td>Kyrgyzstan</td>\n",
       "      <td>2014-02-21 03:10:02+00:00</td>\n",
       "      <td>2014-01-17 08:00:00+00:00</td>\n",
       "      <td>34.000</td>\n",
       "    </tr>\n",
       "    <tr>\n",
       "      <th>4</th>\n",
       "      <td>656933</td>\n",
       "      <td>Ricky\\t</td>\n",
       "      <td>425.000</td>\n",
       "      <td>PH</td>\n",
       "      <td>Philippines</td>\n",
       "      <td>2014-02-13 06:10:02+00:00</td>\n",
       "      <td>2013-12-17 08:00:00+00:00</td>\n",
       "      <td>57.000</td>\n",
       "    </tr>\n",
       "  </tbody>\n",
       "</table>\n",
       "</div>"
      ],
      "text/plain": [
       "   loan_id       loan_name  loan_amount country_code country_name  \\\n",
       "0   657307            Aivy      125.000           PH  Philippines   \n",
       "1   657259  Idalia Marizza      400.000           HN     Honduras   \n",
       "2   658010           Aasia      400.000           PK     Pakistan   \n",
       "3   659347         Gulmira      625.000           KG   Kyrgyzstan   \n",
       "4   656933         Ricky\\t      425.000           PH  Philippines   \n",
       "\n",
       "    planned_expiration_time             disburse_time  diff_days  \n",
       "0 2014-02-14 03:30:06+00:00 2013-12-22 08:00:00+00:00     53.000  \n",
       "1 2014-03-26 22:25:07+00:00 2013-12-20 08:00:00+00:00     96.000  \n",
       "2 2014-02-15 21:10:05+00:00 2014-01-09 08:00:00+00:00     37.000  \n",
       "3 2014-02-21 03:10:02+00:00 2014-01-17 08:00:00+00:00     34.000  \n",
       "4 2014-02-13 06:10:02+00:00 2013-12-17 08:00:00+00:00     57.000  "
      ]
     },
     "execution_count": 7,
     "metadata": {},
     "output_type": "execute_result"
    },
    {
     "name": "stdout",
     "output_type": "stream",
     "text": [
      "time: 28.8 ms\n"
     ]
    }
   ],
   "source": [
    "df_loans.head()"
   ]
  },
  {
   "cell_type": "code",
   "execution_count": 8,
   "metadata": {},
   "outputs": [
    {
     "name": "stdout",
     "output_type": "stream",
     "text": [
      "<class 'pandas.core.frame.DataFrame'>\n",
      "Int64Index: 371834 entries, 64 to 1419523\n",
      "Data columns (total 8 columns):\n",
      " #   Column                   Non-Null Count   Dtype              \n",
      "---  ------                   --------------   -----              \n",
      " 0   loan_id                  371834 non-null  int64              \n",
      " 1   loan_name                355759 non-null  object             \n",
      " 2   loan_amount              371834 non-null  float64            \n",
      " 3   country_code             371834 non-null  object             \n",
      " 4   country_name             371834 non-null  object             \n",
      " 5   planned_expiration_time  0 non-null       datetime64[ns, UTC]\n",
      " 6   disburse_time            371832 non-null  datetime64[ns, UTC]\n",
      " 7   diff_days                0 non-null       float64            \n",
      "dtypes: datetime64[ns, UTC](2), float64(2), int64(1), object(3)\n",
      "memory usage: 25.5+ MB\n",
      "\n",
      "=================================================================\n",
      "\n",
      "<class 'pandas.core.frame.DataFrame'>\n",
      "Int64Index: 2813 entries, 31106 to 1419564\n",
      "Data columns (total 8 columns):\n",
      " #   Column                   Non-Null Count  Dtype              \n",
      "---  ------                   --------------  -----              \n",
      " 0   loan_id                  2813 non-null   int64              \n",
      " 1   loan_name                2362 non-null   object             \n",
      " 2   loan_amount              2813 non-null   float64            \n",
      " 3   country_code             2813 non-null   object             \n",
      " 4   country_name             2813 non-null   object             \n",
      " 5   planned_expiration_time  2811 non-null   datetime64[ns, UTC]\n",
      " 6   disburse_time            0 non-null      datetime64[ns, UTC]\n",
      " 7   diff_days                0 non-null      float64            \n",
      "dtypes: datetime64[ns, UTC](2), float64(2), int64(1), object(3)\n",
      "memory usage: 197.8+ KB\n",
      "time: 146 ms\n"
     ]
    }
   ],
   "source": [
    "# Per verificare che le righe della colonna diff_days siano mancanti se almeno una delle colonne \n",
    "# planned_expiration_time o disburse_time è mancante si può usare la funzione info()\n",
    "\n",
    "df_loans[df_loans['planned_expiration_time'].isnull()].info()\n",
    "\n",
    "print('\\n=================================================================\\n')\n",
    "\n",
    "df_loans[df_loans['disburse_time'].isnull()].info()"
   ]
  },
  {
   "cell_type": "markdown",
   "metadata": {},
   "source": [
    "### 3. Find the lenders that have funded at least twice."
   ]
  },
  {
   "cell_type": "code",
   "execution_count": 9,
   "metadata": {},
   "outputs": [
    {
     "name": "stdout",
     "output_type": "stream",
     "text": [
      "time: 12.5 s\n"
     ]
    }
   ],
   "source": [
    "# Si raggruppa per lender e si ottiene il numero di record di ogni gruppo\n",
    "count = df_loan_lender_norm.groupby(['lenders']).size()\n",
    "\n",
    "# Si selezionano solo i lenders che hanno finanziato due o più volte \n",
    "count = count[count >=2]\n",
    "\n",
    "# Si definisce un dataset per mostrare il risultato\n",
    "df_count = count.reset_index(name='count')"
   ]
  },
  {
   "cell_type": "code",
   "execution_count": 60,
   "metadata": {},
   "outputs": [
    {
     "data": {
      "text/html": [
       "<div>\n",
       "<style scoped>\n",
       "    .dataframe tbody tr th:only-of-type {\n",
       "        vertical-align: middle;\n",
       "    }\n",
       "\n",
       "    .dataframe tbody tr th {\n",
       "        vertical-align: top;\n",
       "    }\n",
       "\n",
       "    .dataframe thead th {\n",
       "        text-align: right;\n",
       "    }\n",
       "</style>\n",
       "<table border=\"1\" class=\"dataframe\">\n",
       "  <thead>\n",
       "    <tr style=\"text-align: right;\">\n",
       "      <th></th>\n",
       "      <th>lenders</th>\n",
       "      <th>count</th>\n",
       "    </tr>\n",
       "  </thead>\n",
       "  <tbody>\n",
       "    <tr>\n",
       "      <th>0</th>\n",
       "      <td>000</td>\n",
       "      <td>40</td>\n",
       "    </tr>\n",
       "    <tr>\n",
       "      <th>1</th>\n",
       "      <td>00000</td>\n",
       "      <td>39</td>\n",
       "    </tr>\n",
       "    <tr>\n",
       "      <th>2</th>\n",
       "      <td>0002</td>\n",
       "      <td>70</td>\n",
       "    </tr>\n",
       "    <tr>\n",
       "      <th>3</th>\n",
       "      <td>0101craign0101</td>\n",
       "      <td>71</td>\n",
       "    </tr>\n",
       "    <tr>\n",
       "      <th>4</th>\n",
       "      <td>0132575</td>\n",
       "      <td>4</td>\n",
       "    </tr>\n",
       "  </tbody>\n",
       "</table>\n",
       "</div>"
      ],
      "text/plain": [
       "          lenders  count\n",
       "0             000     40\n",
       "1           00000     39\n",
       "2            0002     70\n",
       "3  0101craign0101     71\n",
       "4         0132575      4"
      ]
     },
     "execution_count": 60,
     "metadata": {},
     "output_type": "execute_result"
    },
    {
     "name": "stdout",
     "output_type": "stream",
     "text": [
      "time: 11.8 ms\n"
     ]
    }
   ],
   "source": [
    "df_count.head()"
   ]
  },
  {
   "cell_type": "markdown",
   "metadata": {},
   "source": [
    "### 4. For each country, compute how many loans have involved that country as borrowers."
   ]
  },
  {
   "cell_type": "code",
   "execution_count": 10,
   "metadata": {
    "scrolled": true
   },
   "outputs": [
    {
     "name": "stdout",
     "output_type": "stream",
     "text": [
      "time: 181 ms\n"
     ]
    }
   ],
   "source": [
    "# Si può usare value_count applicato alla colonna country_name per contare le occorrenze di ogni paese \n",
    "# ottienendo un dataframe \n",
    "df_count_loans = df_loans['country_name'].value_counts().reset_index()\n",
    "\n",
    "df_count_loans = df_count_loans.rename(columns= {'index': 'country_name', 'country_name': 'count'})"
   ]
  },
  {
   "cell_type": "code",
   "execution_count": 11,
   "metadata": {},
   "outputs": [
    {
     "data": {
      "text/html": [
       "<div>\n",
       "<style scoped>\n",
       "    .dataframe tbody tr th:only-of-type {\n",
       "        vertical-align: middle;\n",
       "    }\n",
       "\n",
       "    .dataframe tbody tr th {\n",
       "        vertical-align: top;\n",
       "    }\n",
       "\n",
       "    .dataframe thead th {\n",
       "        text-align: right;\n",
       "    }\n",
       "</style>\n",
       "<table border=\"1\" class=\"dataframe\">\n",
       "  <thead>\n",
       "    <tr style=\"text-align: right;\">\n",
       "      <th></th>\n",
       "      <th>country_name</th>\n",
       "      <th>count</th>\n",
       "    </tr>\n",
       "  </thead>\n",
       "  <tbody>\n",
       "    <tr>\n",
       "      <th>0</th>\n",
       "      <td>Philippines</td>\n",
       "      <td>285336</td>\n",
       "    </tr>\n",
       "    <tr>\n",
       "      <th>1</th>\n",
       "      <td>Kenya</td>\n",
       "      <td>143699</td>\n",
       "    </tr>\n",
       "    <tr>\n",
       "      <th>2</th>\n",
       "      <td>Peru</td>\n",
       "      <td>86000</td>\n",
       "    </tr>\n",
       "    <tr>\n",
       "      <th>3</th>\n",
       "      <td>Cambodia</td>\n",
       "      <td>79701</td>\n",
       "    </tr>\n",
       "    <tr>\n",
       "      <th>4</th>\n",
       "      <td>El Salvador</td>\n",
       "      <td>64037</td>\n",
       "    </tr>\n",
       "  </tbody>\n",
       "</table>\n",
       "</div>"
      ],
      "text/plain": [
       "  country_name   count\n",
       "0  Philippines  285336\n",
       "1        Kenya  143699\n",
       "2         Peru   86000\n",
       "3     Cambodia   79701\n",
       "4  El Salvador   64037"
      ]
     },
     "execution_count": 11,
     "metadata": {},
     "output_type": "execute_result"
    },
    {
     "name": "stdout",
     "output_type": "stream",
     "text": [
      "time: 8.69 ms\n"
     ]
    }
   ],
   "source": [
    "df_count_loans.head()"
   ]
  },
  {
   "cell_type": "markdown",
   "metadata": {},
   "source": [
    "### 5. For each country, compute the overall amount of money borrowed."
   ]
  },
  {
   "cell_type": "code",
   "execution_count": 12,
   "metadata": {
    "scrolled": true
   },
   "outputs": [
    {
     "name": "stdout",
     "output_type": "stream",
     "text": [
      "time: 122 ms\n"
     ]
    }
   ],
   "source": [
    "# Si raggruppano i loans per country_name e si calcola la somma di loan_amount per ogni gruppo\n",
    "df_overall_borrowed = df_loans.groupby('country_name')['loan_amount'].sum().reset_index(name='tot_borrow')"
   ]
  },
  {
   "cell_type": "code",
   "execution_count": 13,
   "metadata": {},
   "outputs": [
    {
     "data": {
      "text/html": [
       "<div>\n",
       "<style scoped>\n",
       "    .dataframe tbody tr th:only-of-type {\n",
       "        vertical-align: middle;\n",
       "    }\n",
       "\n",
       "    .dataframe tbody tr th {\n",
       "        vertical-align: top;\n",
       "    }\n",
       "\n",
       "    .dataframe thead th {\n",
       "        text-align: right;\n",
       "    }\n",
       "</style>\n",
       "<table border=\"1\" class=\"dataframe\">\n",
       "  <thead>\n",
       "    <tr style=\"text-align: right;\">\n",
       "      <th></th>\n",
       "      <th>country_name</th>\n",
       "      <th>tot_borrow</th>\n",
       "    </tr>\n",
       "  </thead>\n",
       "  <tbody>\n",
       "    <tr>\n",
       "      <th>0</th>\n",
       "      <td>Afghanistan</td>\n",
       "      <td>1967950.000</td>\n",
       "    </tr>\n",
       "    <tr>\n",
       "      <th>1</th>\n",
       "      <td>Albania</td>\n",
       "      <td>4307350.000</td>\n",
       "    </tr>\n",
       "    <tr>\n",
       "      <th>2</th>\n",
       "      <td>Armenia</td>\n",
       "      <td>22950475.000</td>\n",
       "    </tr>\n",
       "    <tr>\n",
       "      <th>3</th>\n",
       "      <td>Azerbaijan</td>\n",
       "      <td>14784625.000</td>\n",
       "    </tr>\n",
       "    <tr>\n",
       "      <th>4</th>\n",
       "      <td>Belize</td>\n",
       "      <td>150175.000</td>\n",
       "    </tr>\n",
       "  </tbody>\n",
       "</table>\n",
       "</div>"
      ],
      "text/plain": [
       "  country_name   tot_borrow\n",
       "0  Afghanistan  1967950.000\n",
       "1      Albania  4307350.000\n",
       "2      Armenia 22950475.000\n",
       "3   Azerbaijan 14784625.000\n",
       "4       Belize   150175.000"
      ]
     },
     "execution_count": 13,
     "metadata": {},
     "output_type": "execute_result"
    },
    {
     "name": "stdout",
     "output_type": "stream",
     "text": [
      "time: 9.34 ms\n"
     ]
    }
   ],
   "source": [
    "df_overall_borrowed.head()"
   ]
  },
  {
   "cell_type": "markdown",
   "metadata": {},
   "source": [
    "### 6. Like the previous point, but expressed as a percentage of the overall amount lent."
   ]
  },
  {
   "cell_type": "code",
   "execution_count": 14,
   "metadata": {
    "scrolled": true
   },
   "outputs": [
    {
     "name": "stdout",
     "output_type": "stream",
     "text": [
      "time: 13.1 ms\n"
     ]
    }
   ],
   "source": [
    "# Si calcola la somma totale dei prestiti\n",
    "tot_borrow = df_overall_borrowed['tot_borrow'].sum()\n",
    "\n",
    "# Si calcola la percentuale di prestiti di ogni stato rispetto alla somma totale\n",
    "df_overall_borrowed['perc_borrow'] = (df_overall_borrowed['tot_borrow']/tot_borrow)*100"
   ]
  },
  {
   "cell_type": "code",
   "execution_count": 15,
   "metadata": {},
   "outputs": [
    {
     "data": {
      "text/html": [
       "<div>\n",
       "<style scoped>\n",
       "    .dataframe tbody tr th:only-of-type {\n",
       "        vertical-align: middle;\n",
       "    }\n",
       "\n",
       "    .dataframe tbody tr th {\n",
       "        vertical-align: top;\n",
       "    }\n",
       "\n",
       "    .dataframe thead th {\n",
       "        text-align: right;\n",
       "    }\n",
       "</style>\n",
       "<table border=\"1\" class=\"dataframe\">\n",
       "  <thead>\n",
       "    <tr style=\"text-align: right;\">\n",
       "      <th></th>\n",
       "      <th>country_name</th>\n",
       "      <th>tot_borrow</th>\n",
       "      <th>perc_borrow</th>\n",
       "    </tr>\n",
       "  </thead>\n",
       "  <tbody>\n",
       "    <tr>\n",
       "      <th>0</th>\n",
       "      <td>Afghanistan</td>\n",
       "      <td>1967950.000</td>\n",
       "      <td>0.167</td>\n",
       "    </tr>\n",
       "    <tr>\n",
       "      <th>1</th>\n",
       "      <td>Albania</td>\n",
       "      <td>4307350.000</td>\n",
       "      <td>0.365</td>\n",
       "    </tr>\n",
       "    <tr>\n",
       "      <th>2</th>\n",
       "      <td>Armenia</td>\n",
       "      <td>22950475.000</td>\n",
       "      <td>1.943</td>\n",
       "    </tr>\n",
       "    <tr>\n",
       "      <th>3</th>\n",
       "      <td>Azerbaijan</td>\n",
       "      <td>14784625.000</td>\n",
       "      <td>1.251</td>\n",
       "    </tr>\n",
       "    <tr>\n",
       "      <th>4</th>\n",
       "      <td>Belize</td>\n",
       "      <td>150175.000</td>\n",
       "      <td>0.013</td>\n",
       "    </tr>\n",
       "  </tbody>\n",
       "</table>\n",
       "</div>"
      ],
      "text/plain": [
       "  country_name   tot_borrow  perc_borrow\n",
       "0  Afghanistan  1967950.000        0.167\n",
       "1      Albania  4307350.000        0.365\n",
       "2      Armenia 22950475.000        1.943\n",
       "3   Azerbaijan 14784625.000        1.251\n",
       "4       Belize   150175.000        0.013"
      ]
     },
     "execution_count": 15,
     "metadata": {},
     "output_type": "execute_result"
    },
    {
     "name": "stdout",
     "output_type": "stream",
     "text": [
      "time: 8.42 ms\n"
     ]
    }
   ],
   "source": [
    "df_overall_borrowed.head()"
   ]
  },
  {
   "cell_type": "markdown",
   "metadata": {},
   "source": [
    "### 7. Like the three previous points, but split for each year (with respect to disburse time)."
   ]
  },
  {
   "cell_type": "code",
   "execution_count": 16,
   "metadata": {
    "scrolled": true
   },
   "outputs": [
    {
     "name": "stdout",
     "output_type": "stream",
     "text": [
      "Righe totali del dataset: 1,419,607\n",
      "Righe mancanti: 2,813\n",
      "Percentuale di righe mancanti: 0.198%\n",
      "\n",
      "Totale prestiti: 1,181,437,300.000\n",
      "Prestiti senza anno: 10,940,750.000\n",
      "Percentuale prestiti senza anno: 0.926%\n",
      "time: 28.4 ms\n"
     ]
    }
   ],
   "source": [
    "# Alcune osservazioni sono mancanti per la colonna disburse_time.\n",
    "# Si vedono le proporzioni di quesi valori mancanti rispetto a tutto il dataset\n",
    "# sia per il numero di righe che per l'ammontare del prestito a cui non è associato nessuna data.\n",
    "\n",
    "df_missing_disburse_time = df_loans[df_loans['disburse_time'].isna()]\n",
    "\n",
    "row_missing = df_missing_disburse_time.shape[0]\n",
    "loan_amount_missing = df_missing_disburse_time['loan_amount'].sum()\n",
    "\n",
    "# Osservazioni mancanti rispetto alle righe del dataset\n",
    "print(f\"Righe totali del dataset: {format(df_loans.shape[0], ',d')}\")\n",
    "print(f\"Righe mancanti: {format(row_missing, ',d')}\")\n",
    "print(f\"Percentuale di righe mancanti: {round(((row_missing/df_loans.shape[0])*100), 3)}%\\n\")\n",
    "\n",
    "# Osservazioni mancanti rispetto ai prestiti\n",
    "print(f\"Totale prestiti: {format(df_loans['loan_amount'].sum(), ',.3f')}\")\n",
    "print(f\"Prestiti senza anno: {format(loan_amount_missing, ',.3f')}\")\n",
    "print(f\"Percentuale prestiti senza anno: {format(round(((loan_amount_missing/df_loans['loan_amount'].sum())*100), 3), '.3f')}%\")"
   ]
  },
  {
   "cell_type": "code",
   "execution_count": 17,
   "metadata": {},
   "outputs": [
    {
     "name": "stdout",
     "output_type": "stream",
     "text": [
      "time: 560 ms\n"
     ]
    }
   ],
   "source": [
    "# Dato l'esiguo numero di valori mancanti si è scelto di non operare nessuna sostituzione di tali valori\n",
    "# ma di considerarli invece allo stesso livello dei gruppi degli anni.\n",
    "\n",
    "# Si separano le osservazioni con disburse_time presente da quelle con valore mancante\n",
    "disburse_time_notna = df_loans[df_loans['disburse_time'].notna()]\n",
    "disburse_time_na = df_loans[df_loans['disburse_time'].isna()]\n",
    "\n",
    "# Per le osservazioni con disburse_time presente si estrae l'anno\n",
    "disburse_time_notna['disburse_year'] = df_loans['disburse_time'].dt.year.astype('Int64')\n",
    "\n",
    "# Per le osservazioni con disburse_time mancante si rimpiazza na missing_year\n",
    "disburse_time_na['disburse_year'] = disburse_time_na['disburse_time'].fillna('missing_year')\n",
    "\n",
    "# Si effettua il merge dei dataframe\n",
    "df_loans = pd.concat([disburse_time_notna, disburse_time_na])"
   ]
  },
  {
   "cell_type": "code",
   "execution_count": 18,
   "metadata": {
    "scrolled": true
   },
   "outputs": [
    {
     "name": "stdout",
     "output_type": "stream",
     "text": [
      "time: 427 ms\n"
     ]
    }
   ],
   "source": [
    "# Si effettua il group by sulla data da cui è stato estratto l'anno. Si usa dt per gestire le date nelle \n",
    "# pandas Series. Per ogni gruppo si calcolano il numero di righe e la somma dei loan\n",
    "#df_loans['diburse_year'] = df_loans['disburse_time'].dt.year\n",
    "df_group_country_year = df_loans.groupby(['country_name', 'disburse_year'])['loan_amount'].agg([\n",
    "    ('count', 'count'), ('loan_amount', 'sum')])\n",
    "\n",
    "# Cast degli anni ad intero\n",
    "#df_group.index = df_group.index.astype(int)\n",
    "\n",
    "# Al dataset finale si aggiunge una riga con le statistiche per le osservazioni mancanti.\n",
    "#df_group = df_group.append(pd.Series({'count':row_missing, \n",
    "   #                                   'loan_amount':loan_amount_missing}, name='missing_year'))\n",
    "\n",
    "# Si calcola la percentuale di loan amount per ogni anno riferita alla somma totale dei loans\n",
    "df_group_country_year['percentage_amount'] = (df_group_country_year['loan_amount']/\n",
    "                                              df_group_country_year['loan_amount'].sum())*100\n",
    "\n",
    "\n",
    "df_group_country_year = df_group_country_year.reset_index()"
   ]
  },
  {
   "cell_type": "code",
   "execution_count": 59,
   "metadata": {},
   "outputs": [
    {
     "data": {
      "text/html": [
       "<div>\n",
       "<style scoped>\n",
       "    .dataframe tbody tr th:only-of-type {\n",
       "        vertical-align: middle;\n",
       "    }\n",
       "\n",
       "    .dataframe tbody tr th {\n",
       "        vertical-align: top;\n",
       "    }\n",
       "\n",
       "    .dataframe thead th {\n",
       "        text-align: right;\n",
       "    }\n",
       "</style>\n",
       "<table border=\"1\" class=\"dataframe\">\n",
       "  <thead>\n",
       "    <tr style=\"text-align: right;\">\n",
       "      <th></th>\n",
       "      <th>country_name</th>\n",
       "      <th>disburse_year</th>\n",
       "      <th>count</th>\n",
       "      <th>loan_amount</th>\n",
       "      <th>percentage_amount</th>\n",
       "    </tr>\n",
       "  </thead>\n",
       "  <tbody>\n",
       "    <tr>\n",
       "      <th>710</th>\n",
       "      <td>United States</td>\n",
       "      <td>2009</td>\n",
       "      <td>118</td>\n",
       "      <td>645400.000</td>\n",
       "      <td>0.055</td>\n",
       "    </tr>\n",
       "    <tr>\n",
       "      <th>711</th>\n",
       "      <td>United States</td>\n",
       "      <td>2010</td>\n",
       "      <td>139</td>\n",
       "      <td>773725.000</td>\n",
       "      <td>0.065</td>\n",
       "    </tr>\n",
       "    <tr>\n",
       "      <th>712</th>\n",
       "      <td>United States</td>\n",
       "      <td>2011</td>\n",
       "      <td>222</td>\n",
       "      <td>1217650.000</td>\n",
       "      <td>0.103</td>\n",
       "    </tr>\n",
       "    <tr>\n",
       "      <th>713</th>\n",
       "      <td>United States</td>\n",
       "      <td>2012</td>\n",
       "      <td>398</td>\n",
       "      <td>2225850.000</td>\n",
       "      <td>0.188</td>\n",
       "    </tr>\n",
       "    <tr>\n",
       "      <th>714</th>\n",
       "      <td>United States</td>\n",
       "      <td>2013</td>\n",
       "      <td>1037</td>\n",
       "      <td>5326650.000</td>\n",
       "      <td>0.451</td>\n",
       "    </tr>\n",
       "    <tr>\n",
       "      <th>715</th>\n",
       "      <td>United States</td>\n",
       "      <td>2014</td>\n",
       "      <td>1091</td>\n",
       "      <td>5092325.000</td>\n",
       "      <td>0.431</td>\n",
       "    </tr>\n",
       "    <tr>\n",
       "      <th>716</th>\n",
       "      <td>United States</td>\n",
       "      <td>2015</td>\n",
       "      <td>1207</td>\n",
       "      <td>6599125.000</td>\n",
       "      <td>0.559</td>\n",
       "    </tr>\n",
       "    <tr>\n",
       "      <th>717</th>\n",
       "      <td>United States</td>\n",
       "      <td>2016</td>\n",
       "      <td>1102</td>\n",
       "      <td>6695750.000</td>\n",
       "      <td>0.567</td>\n",
       "    </tr>\n",
       "    <tr>\n",
       "      <th>718</th>\n",
       "      <td>United States</td>\n",
       "      <td>2017</td>\n",
       "      <td>1466</td>\n",
       "      <td>7037175.000</td>\n",
       "      <td>0.596</td>\n",
       "    </tr>\n",
       "    <tr>\n",
       "      <th>719</th>\n",
       "      <td>United States</td>\n",
       "      <td>missing_year</td>\n",
       "      <td>2400</td>\n",
       "      <td>10738350.000</td>\n",
       "      <td>0.909</td>\n",
       "    </tr>\n",
       "  </tbody>\n",
       "</table>\n",
       "</div>"
      ],
      "text/plain": [
       "      country_name disburse_year  count  loan_amount  percentage_amount\n",
       "710  United States          2009    118   645400.000              0.055\n",
       "711  United States          2010    139   773725.000              0.065\n",
       "712  United States          2011    222  1217650.000              0.103\n",
       "713  United States          2012    398  2225850.000              0.188\n",
       "714  United States          2013   1037  5326650.000              0.451\n",
       "715  United States          2014   1091  5092325.000              0.431\n",
       "716  United States          2015   1207  6599125.000              0.559\n",
       "717  United States          2016   1102  6695750.000              0.567\n",
       "718  United States          2017   1466  7037175.000              0.596\n",
       "719  United States  missing_year   2400 10738350.000              0.909"
      ]
     },
     "execution_count": 59,
     "metadata": {},
     "output_type": "execute_result"
    },
    {
     "name": "stdout",
     "output_type": "stream",
     "text": [
      "time: 19 ms\n"
     ]
    }
   ],
   "source": [
    "# A titolo dimostrativo si motrano i dati degli Stati Uniti sia per gli anni presenti sia per quelli mancanti\n",
    "df_group_country_year[df_group_country_year['country_name'] == 'United States']"
   ]
  },
  {
   "cell_type": "markdown",
   "metadata": {},
   "source": [
    "### 8. For each lender, compute the overall amount of money lent. For each loan that has more than one lender, you must assume that all lenders contributed the same amount."
   ]
  },
  {
   "cell_type": "code",
   "execution_count": 20,
   "metadata": {},
   "outputs": [
    {
     "data": {
      "text/html": [
       "<div>\n",
       "<style scoped>\n",
       "    .dataframe tbody tr th:only-of-type {\n",
       "        vertical-align: middle;\n",
       "    }\n",
       "\n",
       "    .dataframe tbody tr th {\n",
       "        vertical-align: top;\n",
       "    }\n",
       "\n",
       "    .dataframe thead th {\n",
       "        text-align: right;\n",
       "    }\n",
       "</style>\n",
       "<table border=\"1\" class=\"dataframe\">\n",
       "  <thead>\n",
       "    <tr style=\"text-align: right;\">\n",
       "      <th></th>\n",
       "      <th>loan_id</th>\n",
       "      <th>n_lenders</th>\n",
       "    </tr>\n",
       "  </thead>\n",
       "  <tbody>\n",
       "    <tr>\n",
       "      <th>0</th>\n",
       "      <td>84</td>\n",
       "      <td>3</td>\n",
       "    </tr>\n",
       "    <tr>\n",
       "      <th>1</th>\n",
       "      <td>85</td>\n",
       "      <td>2</td>\n",
       "    </tr>\n",
       "    <tr>\n",
       "      <th>2</th>\n",
       "      <td>86</td>\n",
       "      <td>3</td>\n",
       "    </tr>\n",
       "    <tr>\n",
       "      <th>3</th>\n",
       "      <td>88</td>\n",
       "      <td>3</td>\n",
       "    </tr>\n",
       "    <tr>\n",
       "      <th>4</th>\n",
       "      <td>89</td>\n",
       "      <td>4</td>\n",
       "    </tr>\n",
       "  </tbody>\n",
       "</table>\n",
       "</div>"
      ],
      "text/plain": [
       "   loan_id  n_lenders\n",
       "0       84          3\n",
       "1       85          2\n",
       "2       86          3\n",
       "3       88          3\n",
       "4       89          4"
      ]
     },
     "execution_count": 20,
     "metadata": {},
     "output_type": "execute_result"
    },
    {
     "name": "stdout",
     "output_type": "stream",
     "text": [
      "time: 3.76 s\n"
     ]
    }
   ],
   "source": [
    "# Calcolo, per ogni loan, del numero dei suoi partecipanti\n",
    "df_n_lenders = df_loan_lender_norm.groupby('loan_id').size().reset_index()\n",
    "df_n_lenders = df_n_lenders.rename(columns= {0: 'n_lenders'})\n",
    "df_n_lenders.head()"
   ]
  },
  {
   "cell_type": "code",
   "execution_count": 21,
   "metadata": {
    "scrolled": false
   },
   "outputs": [
    {
     "name": "stdout",
     "output_type": "stream",
     "text": [
      "time: 1min 3s\n"
     ]
    }
   ],
   "source": [
    "# merge dei dataframe\n",
    "df_merge = pd.merge(df_loans[['loan_id', 'loan_amount']], df_loan_lender_norm, on='loan_id')\n",
    "df_merge = pd.merge(df_merge, df_n_lenders, on='loan_id')\n",
    "\n",
    "# Calcolo dell'ammontare di ogni prestatore per ogni prestito in modo equo\n",
    "df_merge['amount_per_lender'] = df_merge['loan_amount'] / df_merge['n_lenders']\n",
    "\n",
    "# Raggruppo per lender e calcolo la somma dei prestiti dati\n",
    "df_amount_per_lender = df_merge.groupby('lenders')['amount_per_lender'].sum().reset_index()"
   ]
  },
  {
   "cell_type": "code",
   "execution_count": 22,
   "metadata": {},
   "outputs": [
    {
     "data": {
      "text/html": [
       "<div>\n",
       "<style scoped>\n",
       "    .dataframe tbody tr th:only-of-type {\n",
       "        vertical-align: middle;\n",
       "    }\n",
       "\n",
       "    .dataframe tbody tr th {\n",
       "        vertical-align: top;\n",
       "    }\n",
       "\n",
       "    .dataframe thead th {\n",
       "        text-align: right;\n",
       "    }\n",
       "</style>\n",
       "<table border=\"1\" class=\"dataframe\">\n",
       "  <thead>\n",
       "    <tr style=\"text-align: right;\">\n",
       "      <th></th>\n",
       "      <th>lenders</th>\n",
       "      <th>amount_per_lender</th>\n",
       "    </tr>\n",
       "  </thead>\n",
       "  <tbody>\n",
       "    <tr>\n",
       "      <th>0</th>\n",
       "      <td>000</td>\n",
       "      <td>1764.285</td>\n",
       "    </tr>\n",
       "    <tr>\n",
       "      <th>1</th>\n",
       "      <td>00000</td>\n",
       "      <td>1380.694</td>\n",
       "    </tr>\n",
       "    <tr>\n",
       "      <th>2</th>\n",
       "      <td>0002</td>\n",
       "      <td>2472.564</td>\n",
       "    </tr>\n",
       "    <tr>\n",
       "      <th>3</th>\n",
       "      <td>00mike00</td>\n",
       "      <td>52.632</td>\n",
       "    </tr>\n",
       "    <tr>\n",
       "      <th>4</th>\n",
       "      <td>0101craign0101</td>\n",
       "      <td>2623.565</td>\n",
       "    </tr>\n",
       "  </tbody>\n",
       "</table>\n",
       "</div>"
      ],
      "text/plain": [
       "          lenders  amount_per_lender\n",
       "0             000           1764.285\n",
       "1           00000           1380.694\n",
       "2            0002           2472.564\n",
       "3        00mike00             52.632\n",
       "4  0101craign0101           2623.565"
      ]
     },
     "execution_count": 22,
     "metadata": {},
     "output_type": "execute_result"
    },
    {
     "name": "stdout",
     "output_type": "stream",
     "text": [
      "time: 35.1 ms\n"
     ]
    }
   ],
   "source": [
    "df_amount_per_lender.head()"
   ]
  },
  {
   "cell_type": "markdown",
   "metadata": {},
   "source": [
    "### 9. For each country, compute the difference between the overall amount of money lent and the overall amount of money borrowed. Since the country of the lender is often unknown, you can assume that the true distribution among the countries is the same as the one computed from the rows where the country is known."
   ]
  },
  {
   "cell_type": "code",
   "execution_count": 23,
   "metadata": {},
   "outputs": [
    {
     "name": "stdout",
     "output_type": "stream",
     "text": [
      "<class 'pandas.core.frame.DataFrame'>\n",
      "RangeIndex: 2349174 entries, 0 to 2349173\n",
      "Data columns (total 4 columns):\n",
      " #   Column          Non-Null Count    Dtype \n",
      "---  ------          --------------    ----- \n",
      " 0   permanent_name  2349174 non-null  object\n",
      " 1   city            729868 non-null   object\n",
      " 2   state           635693 non-null   object\n",
      " 3   country_code    890539 non-null   object\n",
      "dtypes: object(4)\n",
      "memory usage: 71.7+ MB\n",
      "\n",
      "====================================================\n",
      "\n",
      "<class 'pandas.core.frame.DataFrame'>\n",
      "Int64Index: 1419607 entries, 0 to 1419564\n",
      "Data columns (total 9 columns):\n",
      " #   Column                   Non-Null Count    Dtype              \n",
      "---  ------                   --------------    -----              \n",
      " 0   loan_id                  1419607 non-null  int64              \n",
      " 1   loan_name                1372049 non-null  object             \n",
      " 2   loan_amount              1419607 non-null  float64            \n",
      " 3   country_code             1419598 non-null  object             \n",
      " 4   country_name             1419607 non-null  object             \n",
      " 5   planned_expiration_time  1047773 non-null  datetime64[ns, UTC]\n",
      " 6   disburse_time            1416794 non-null  datetime64[ns, UTC]\n",
      " 7   diff_days                1044962 non-null  float64            \n",
      " 8   disburse_year            1419607 non-null  object             \n",
      "dtypes: datetime64[ns, UTC](2), float64(2), int64(1), object(4)\n",
      "memory usage: 148.3+ MB\n",
      "time: 3.39 s\n"
     ]
    }
   ],
   "source": [
    "# Nel dataset c'è un numero elevato di dati mancanti per la colonna country_code\n",
    "df_lenders.info(null_counts=True)\n",
    "\n",
    "print('\\n====================================================\\n')\n",
    "\n",
    "# Inoltre si vede che nel dataset dei loans la colonna country_code ha 9 valori mancanti, \n",
    "# mentre country_name non ne ha \n",
    "df_loans.info()"
   ]
  },
  {
   "cell_type": "code",
   "execution_count": 24,
   "metadata": {},
   "outputs": [
    {
     "data": {
      "text/html": [
       "<div>\n",
       "<style scoped>\n",
       "    .dataframe tbody tr th:only-of-type {\n",
       "        vertical-align: middle;\n",
       "    }\n",
       "\n",
       "    .dataframe tbody tr th {\n",
       "        vertical-align: top;\n",
       "    }\n",
       "\n",
       "    .dataframe thead th {\n",
       "        text-align: right;\n",
       "    }\n",
       "</style>\n",
       "<table border=\"1\" class=\"dataframe\">\n",
       "  <thead>\n",
       "    <tr style=\"text-align: right;\">\n",
       "      <th></th>\n",
       "      <th>loan_id</th>\n",
       "      <th>loan_name</th>\n",
       "      <th>loan_amount</th>\n",
       "      <th>country_code</th>\n",
       "      <th>country_name</th>\n",
       "      <th>planned_expiration_time</th>\n",
       "      <th>disburse_time</th>\n",
       "      <th>diff_days</th>\n",
       "      <th>disburse_year</th>\n",
       "    </tr>\n",
       "  </thead>\n",
       "  <tbody>\n",
       "    <tr>\n",
       "      <th>82889</th>\n",
       "      <td>991853</td>\n",
       "      <td>Elizabeth</td>\n",
       "      <td>3325.000</td>\n",
       "      <td>NaN</td>\n",
       "      <td>Namibia</td>\n",
       "      <td>2016-01-21 02:20:06+00:00</td>\n",
       "      <td>2016-01-05 08:00:00+00:00</td>\n",
       "      <td>15.000</td>\n",
       "      <td>2016</td>\n",
       "    </tr>\n",
       "    <tr>\n",
       "      <th>156970</th>\n",
       "      <td>513472</td>\n",
       "      <td>Gottlieb</td>\n",
       "      <td>7150.000</td>\n",
       "      <td>NaN</td>\n",
       "      <td>Namibia</td>\n",
       "      <td>2013-02-02 00:10:01+00:00</td>\n",
       "      <td>2013-03-08 08:00:00+00:00</td>\n",
       "      <td>-35.000</td>\n",
       "      <td>2013</td>\n",
       "    </tr>\n",
       "    <tr>\n",
       "      <th>598087</th>\n",
       "      <td>851360</td>\n",
       "      <td>Elizabeth</td>\n",
       "      <td>4150.000</td>\n",
       "      <td>NaN</td>\n",
       "      <td>Namibia</td>\n",
       "      <td>2015-04-24 14:00:04+00:00</td>\n",
       "      <td>2015-06-03 07:00:00+00:00</td>\n",
       "      <td>-40.000</td>\n",
       "      <td>2015</td>\n",
       "    </tr>\n",
       "    <tr>\n",
       "      <th>684876</th>\n",
       "      <td>1068159</td>\n",
       "      <td>Theo</td>\n",
       "      <td>4000.000</td>\n",
       "      <td>NaN</td>\n",
       "      <td>Namibia</td>\n",
       "      <td>2016-06-14 14:10:06+00:00</td>\n",
       "      <td>2016-06-10 07:00:00+00:00</td>\n",
       "      <td>4.000</td>\n",
       "      <td>2016</td>\n",
       "    </tr>\n",
       "    <tr>\n",
       "      <th>971827</th>\n",
       "      <td>998555</td>\n",
       "      <td>Theo</td>\n",
       "      <td>3325.000</td>\n",
       "      <td>NaN</td>\n",
       "      <td>Namibia</td>\n",
       "      <td>2016-01-21 02:20:17+00:00</td>\n",
       "      <td>2016-01-05 08:00:00+00:00</td>\n",
       "      <td>15.000</td>\n",
       "      <td>2016</td>\n",
       "    </tr>\n",
       "    <tr>\n",
       "      <th>1134818</th>\n",
       "      <td>1147866</td>\n",
       "      <td>Ndeyapo</td>\n",
       "      <td>5000.000</td>\n",
       "      <td>NaN</td>\n",
       "      <td>Namibia</td>\n",
       "      <td>2016-10-19 01:50:05+00:00</td>\n",
       "      <td>2016-10-01 07:00:00+00:00</td>\n",
       "      <td>17.000</td>\n",
       "      <td>2016</td>\n",
       "    </tr>\n",
       "    <tr>\n",
       "      <th>1214923</th>\n",
       "      <td>851368</td>\n",
       "      <td>Theo</td>\n",
       "      <td>4150.000</td>\n",
       "      <td>NaN</td>\n",
       "      <td>Namibia</td>\n",
       "      <td>2015-04-24 14:00:04+00:00</td>\n",
       "      <td>2015-06-03 07:00:00+00:00</td>\n",
       "      <td>-40.000</td>\n",
       "      <td>2015</td>\n",
       "    </tr>\n",
       "    <tr>\n",
       "      <th>1281022</th>\n",
       "      <td>1147852</td>\n",
       "      <td>Dominic</td>\n",
       "      <td>5100.000</td>\n",
       "      <td>NaN</td>\n",
       "      <td>Namibia</td>\n",
       "      <td>2016-11-02 18:00:07+00:00</td>\n",
       "      <td>2016-10-01 07:00:00+00:00</td>\n",
       "      <td>32.000</td>\n",
       "      <td>2016</td>\n",
       "    </tr>\n",
       "    <tr>\n",
       "      <th>1415763</th>\n",
       "      <td>1068167</td>\n",
       "      <td>Elizabeth</td>\n",
       "      <td>3325.000</td>\n",
       "      <td>NaN</td>\n",
       "      <td>Namibia</td>\n",
       "      <td>2016-06-14 16:30:07+00:00</td>\n",
       "      <td>2016-06-10 07:00:00+00:00</td>\n",
       "      <td>4.000</td>\n",
       "      <td>2016</td>\n",
       "    </tr>\n",
       "  </tbody>\n",
       "</table>\n",
       "</div>"
      ],
      "text/plain": [
       "         loan_id  loan_name  loan_amount country_code country_name  \\\n",
       "82889     991853  Elizabeth     3325.000          NaN      Namibia   \n",
       "156970    513472   Gottlieb     7150.000          NaN      Namibia   \n",
       "598087    851360  Elizabeth     4150.000          NaN      Namibia   \n",
       "684876   1068159       Theo     4000.000          NaN      Namibia   \n",
       "971827    998555       Theo     3325.000          NaN      Namibia   \n",
       "1134818  1147866    Ndeyapo     5000.000          NaN      Namibia   \n",
       "1214923   851368       Theo     4150.000          NaN      Namibia   \n",
       "1281022  1147852    Dominic     5100.000          NaN      Namibia   \n",
       "1415763  1068167  Elizabeth     3325.000          NaN      Namibia   \n",
       "\n",
       "          planned_expiration_time             disburse_time  diff_days  \\\n",
       "82889   2016-01-21 02:20:06+00:00 2016-01-05 08:00:00+00:00     15.000   \n",
       "156970  2013-02-02 00:10:01+00:00 2013-03-08 08:00:00+00:00    -35.000   \n",
       "598087  2015-04-24 14:00:04+00:00 2015-06-03 07:00:00+00:00    -40.000   \n",
       "684876  2016-06-14 14:10:06+00:00 2016-06-10 07:00:00+00:00      4.000   \n",
       "971827  2016-01-21 02:20:17+00:00 2016-01-05 08:00:00+00:00     15.000   \n",
       "1134818 2016-10-19 01:50:05+00:00 2016-10-01 07:00:00+00:00     17.000   \n",
       "1214923 2015-04-24 14:00:04+00:00 2015-06-03 07:00:00+00:00    -40.000   \n",
       "1281022 2016-11-02 18:00:07+00:00 2016-10-01 07:00:00+00:00     32.000   \n",
       "1415763 2016-06-14 16:30:07+00:00 2016-06-10 07:00:00+00:00      4.000   \n",
       "\n",
       "        disburse_year  \n",
       "82889            2016  \n",
       "156970           2013  \n",
       "598087           2015  \n",
       "684876           2016  \n",
       "971827           2016  \n",
       "1134818          2016  \n",
       "1214923          2015  \n",
       "1281022          2016  \n",
       "1415763          2016  "
      ]
     },
     "execution_count": 24,
     "metadata": {},
     "output_type": "execute_result"
    },
    {
     "name": "stdout",
     "output_type": "stream",
     "text": [
      "time: 102 ms\n"
     ]
    }
   ],
   "source": [
    "# I valori mancanti in df_loans sono associati tutti allo stato della Namibia\n",
    "df_loans[df_loans['country_code'].isna()]"
   ]
  },
  {
   "cell_type": "code",
   "execution_count": 25,
   "metadata": {},
   "outputs": [
    {
     "data": {
      "text/html": [
       "<div>\n",
       "<style scoped>\n",
       "    .dataframe tbody tr th:only-of-type {\n",
       "        vertical-align: middle;\n",
       "    }\n",
       "\n",
       "    .dataframe tbody tr th {\n",
       "        vertical-align: top;\n",
       "    }\n",
       "\n",
       "    .dataframe thead th {\n",
       "        text-align: right;\n",
       "    }\n",
       "</style>\n",
       "<table border=\"1\" class=\"dataframe\">\n",
       "  <thead>\n",
       "    <tr style=\"text-align: right;\">\n",
       "      <th></th>\n",
       "      <th>permanent_name</th>\n",
       "      <th>city</th>\n",
       "      <th>state</th>\n",
       "      <th>country_code</th>\n",
       "    </tr>\n",
       "  </thead>\n",
       "  <tbody>\n",
       "    <tr>\n",
       "      <th>2063842</th>\n",
       "      <td>jakeskaova9324</td>\n",
       "      <td>Windhoek</td>\n",
       "      <td>Namibia</td>\n",
       "      <td>NaN</td>\n",
       "    </tr>\n",
       "    <tr>\n",
       "      <th>2158590</th>\n",
       "      <td>doreen3422</td>\n",
       "      <td>Windhoek</td>\n",
       "      <td>Namibia</td>\n",
       "      <td>NaN</td>\n",
       "    </tr>\n",
       "    <tr>\n",
       "      <th>2273721</th>\n",
       "      <td>ckqdm1115</td>\n",
       "      <td>Windhoek</td>\n",
       "      <td>Namibia</td>\n",
       "      <td>NaN</td>\n",
       "    </tr>\n",
       "  </tbody>\n",
       "</table>\n",
       "</div>"
      ],
      "text/plain": [
       "         permanent_name      city    state country_code\n",
       "2063842  jakeskaova9324  Windhoek  Namibia          NaN\n",
       "2158590      doreen3422  Windhoek  Namibia          NaN\n",
       "2273721       ckqdm1115  Windhoek  Namibia          NaN"
      ]
     },
     "execution_count": 25,
     "metadata": {},
     "output_type": "execute_result"
    },
    {
     "name": "stdout",
     "output_type": "stream",
     "text": [
      "time: 116 ms\n"
     ]
    }
   ],
   "source": [
    "# Analogo discorso per i record dei lenders, dove tutti i valori della Namibia sono mancanti\n",
    "df_lenders[df_lenders['state']=='Namibia']"
   ]
  },
  {
   "cell_type": "code",
   "execution_count": 26,
   "metadata": {},
   "outputs": [
    {
     "name": "stdout",
     "output_type": "stream",
     "text": [
      "time: 192 ms\n"
     ]
    }
   ],
   "source": [
    "# Per evitare di perdere tutte le informazioni legate ad un intero paese,\n",
    "# solo in questo caso si procede con un rimpiazzo manuale dei missing value\n",
    "df_lenders.loc[df_lenders['state']=='Namibia', 'country_code'] = 'Namibia'\n",
    "df_loans.loc[df_loans['country_code'].isna(), 'country_code'] = 'Namibia'"
   ]
  },
  {
   "cell_type": "code",
   "execution_count": 27,
   "metadata": {},
   "outputs": [
    {
     "name": "stdout",
     "output_type": "stream",
     "text": [
      "time: 379 ms\n"
     ]
    }
   ],
   "source": [
    "# Si separano i lenders con valore di country_code presente dai lenders con valore country_code mancante\n",
    "df_lenders_no_na = df_lenders[df_lenders['country_code'].notna()]\n",
    "\n",
    "# Si ottiene una serie di booleani per poter eseguire la sostistuzione dei valori mancanti successivamente\n",
    "sr_lenders_na = df_lenders['country_code'].isna()"
   ]
  },
  {
   "cell_type": "code",
   "execution_count": 28,
   "metadata": {},
   "outputs": [
    {
     "name": "stdout",
     "output_type": "stream",
     "text": [
      "time: 498 ms\n"
     ]
    }
   ],
   "source": [
    "# Si trova la distribuzione dei lender con valore di country_code presente \n",
    "# utilizzando l'opzione normalize di value_count che calcola la frequenza relativa dei valori\n",
    "sr_state_distr = df_lenders_no_na['country_code'].value_counts(normalize=True)\n",
    "\n",
    "# Si usa la distribuzione trovata per assegnare lo stato per i valori mancanti di country_code.\n",
    "# Si usa la funzione choice utilizzando come valori i codici dei paesi, come dimensione del campione la somma dei\n",
    "# booleani della serie che distingue tra codice na e non na e per probabilità la distribuzione trovata.\n",
    "df_lenders.loc[sr_lenders_na, 'country_code'] = np.random.choice(sr_state_distr.index, size=sum(sr_lenders_na), \n",
    "                                                                 p=sr_state_distr.values)"
   ]
  },
  {
   "cell_type": "code",
   "execution_count": 29,
   "metadata": {},
   "outputs": [
    {
     "data": {
      "text/plain": [
       "0"
      ]
     },
     "execution_count": 29,
     "metadata": {},
     "output_type": "execute_result"
    },
    {
     "name": "stdout",
     "output_type": "stream",
     "text": [
      "time: 337 ms\n"
     ]
    }
   ],
   "source": [
    "# si verifico che non ci siano valori ancanti\n",
    "sum(df_lenders.country_code.isna())"
   ]
  },
  {
   "cell_type": "code",
   "execution_count": 30,
   "metadata": {},
   "outputs": [
    {
     "name": "stdout",
     "output_type": "stream",
     "text": [
      "time: 2.48 s\n"
     ]
    }
   ],
   "source": [
    "# Si effettua il merge dei lenders con quanto hanno prestato in totale\n",
    "df_lent = pd.merge(df_lenders, df_amount_per_lender, left_on='permanent_name', right_on='lenders')"
   ]
  },
  {
   "cell_type": "code",
   "execution_count": 31,
   "metadata": {},
   "outputs": [
    {
     "name": "stdout",
     "output_type": "stream",
     "text": [
      "time: 464 ms\n"
     ]
    }
   ],
   "source": [
    "# Si sommano i prestiti raggruppati per paese\n",
    "df_lent_country = df_lent.groupby('country_code')['amount_per_lender'].sum().reset_index(name='amount_lent')"
   ]
  },
  {
   "cell_type": "code",
   "execution_count": 32,
   "metadata": {},
   "outputs": [
    {
     "data": {
      "text/html": [
       "<div>\n",
       "<style scoped>\n",
       "    .dataframe tbody tr th:only-of-type {\n",
       "        vertical-align: middle;\n",
       "    }\n",
       "\n",
       "    .dataframe tbody tr th {\n",
       "        vertical-align: top;\n",
       "    }\n",
       "\n",
       "    .dataframe thead th {\n",
       "        text-align: right;\n",
       "    }\n",
       "</style>\n",
       "<table border=\"1\" class=\"dataframe\">\n",
       "  <thead>\n",
       "    <tr style=\"text-align: right;\">\n",
       "      <th></th>\n",
       "      <th>country_code</th>\n",
       "      <th>amount_lent</th>\n",
       "    </tr>\n",
       "  </thead>\n",
       "  <tbody>\n",
       "    <tr>\n",
       "      <th>0</th>\n",
       "      <td>AD</td>\n",
       "      <td>8029.694</td>\n",
       "    </tr>\n",
       "    <tr>\n",
       "      <th>1</th>\n",
       "      <td>AE</td>\n",
       "      <td>1969121.158</td>\n",
       "    </tr>\n",
       "    <tr>\n",
       "      <th>2</th>\n",
       "      <td>AF</td>\n",
       "      <td>139997.469</td>\n",
       "    </tr>\n",
       "    <tr>\n",
       "      <th>3</th>\n",
       "      <td>AG</td>\n",
       "      <td>1706.163</td>\n",
       "    </tr>\n",
       "    <tr>\n",
       "      <th>4</th>\n",
       "      <td>AI</td>\n",
       "      <td>501.716</td>\n",
       "    </tr>\n",
       "  </tbody>\n",
       "</table>\n",
       "</div>"
      ],
      "text/plain": [
       "  country_code  amount_lent\n",
       "0           AD     8029.694\n",
       "1           AE  1969121.158\n",
       "2           AF   139997.469\n",
       "3           AG     1706.163\n",
       "4           AI      501.716"
      ]
     },
     "execution_count": 32,
     "metadata": {},
     "output_type": "execute_result"
    },
    {
     "name": "stdout",
     "output_type": "stream",
     "text": [
      "time: 6.43 ms\n"
     ]
    }
   ],
   "source": [
    "df_lent_country.head()"
   ]
  },
  {
   "cell_type": "code",
   "execution_count": 33,
   "metadata": {},
   "outputs": [
    {
     "name": "stdout",
     "output_type": "stream",
     "text": [
      "time: 85.8 ms\n"
     ]
    }
   ],
   "source": [
    "# Si calcola il totale dei prestiti ricevuti per ogni paese\n",
    "df_borrowed_country = df_loans.groupby('country_code')['loan_amount'].sum().reset_index(name='borrowed')"
   ]
  },
  {
   "cell_type": "code",
   "execution_count": 34,
   "metadata": {},
   "outputs": [
    {
     "data": {
      "text/html": [
       "<div>\n",
       "<style scoped>\n",
       "    .dataframe tbody tr th:only-of-type {\n",
       "        vertical-align: middle;\n",
       "    }\n",
       "\n",
       "    .dataframe tbody tr th {\n",
       "        vertical-align: top;\n",
       "    }\n",
       "\n",
       "    .dataframe thead th {\n",
       "        text-align: right;\n",
       "    }\n",
       "</style>\n",
       "<table border=\"1\" class=\"dataframe\">\n",
       "  <thead>\n",
       "    <tr style=\"text-align: right;\">\n",
       "      <th></th>\n",
       "      <th>country_code</th>\n",
       "      <th>borrowed</th>\n",
       "    </tr>\n",
       "  </thead>\n",
       "  <tbody>\n",
       "    <tr>\n",
       "      <th>0</th>\n",
       "      <td>AF</td>\n",
       "      <td>1967950.000</td>\n",
       "    </tr>\n",
       "    <tr>\n",
       "      <th>1</th>\n",
       "      <td>AL</td>\n",
       "      <td>4307350.000</td>\n",
       "    </tr>\n",
       "    <tr>\n",
       "      <th>2</th>\n",
       "      <td>AM</td>\n",
       "      <td>22950475.000</td>\n",
       "    </tr>\n",
       "    <tr>\n",
       "      <th>3</th>\n",
       "      <td>AZ</td>\n",
       "      <td>14784625.000</td>\n",
       "    </tr>\n",
       "    <tr>\n",
       "      <th>4</th>\n",
       "      <td>BA</td>\n",
       "      <td>477250.000</td>\n",
       "    </tr>\n",
       "  </tbody>\n",
       "</table>\n",
       "</div>"
      ],
      "text/plain": [
       "  country_code     borrowed\n",
       "0           AF  1967950.000\n",
       "1           AL  4307350.000\n",
       "2           AM 22950475.000\n",
       "3           AZ 14784625.000\n",
       "4           BA   477250.000"
      ]
     },
     "execution_count": 34,
     "metadata": {},
     "output_type": "execute_result"
    },
    {
     "name": "stdout",
     "output_type": "stream",
     "text": [
      "time: 11.4 ms\n"
     ]
    }
   ],
   "source": [
    "df_borrowed_country.head()"
   ]
  },
  {
   "cell_type": "code",
   "execution_count": 35,
   "metadata": {
    "scrolled": false
   },
   "outputs": [
    {
     "name": "stdout",
     "output_type": "stream",
     "text": [
      "time: 44.9 ms\n"
     ]
    }
   ],
   "source": [
    "# Si effettua il merge dei due dataset\n",
    "df_diff_lent_borrowed = pd.merge(df_lent_country, df_borrowed_country, on='country_code', how='outer')\n",
    "\n",
    "# Si sostituiscono i valori mancanti con 0\n",
    "df_diff_lent_borrowed.fillna(0, inplace=True)\n",
    "\n",
    "# Si calcola la differenza tra il denaro prestato e quello preso in prestito\n",
    "df_diff_lent_borrowed['diff_lent-borrowed'] = df_diff_lent_borrowed['amount_lent']-df_diff_lent_borrowed['borrowed']"
   ]
  },
  {
   "cell_type": "code",
   "execution_count": 36,
   "metadata": {},
   "outputs": [
    {
     "data": {
      "text/html": [
       "<div>\n",
       "<style scoped>\n",
       "    .dataframe tbody tr th:only-of-type {\n",
       "        vertical-align: middle;\n",
       "    }\n",
       "\n",
       "    .dataframe tbody tr th {\n",
       "        vertical-align: top;\n",
       "    }\n",
       "\n",
       "    .dataframe thead th {\n",
       "        text-align: right;\n",
       "    }\n",
       "</style>\n",
       "<table border=\"1\" class=\"dataframe\">\n",
       "  <thead>\n",
       "    <tr style=\"text-align: right;\">\n",
       "      <th></th>\n",
       "      <th>country_code</th>\n",
       "      <th>amount_lent</th>\n",
       "      <th>borrowed</th>\n",
       "      <th>diff_lent-borrowed</th>\n",
       "    </tr>\n",
       "  </thead>\n",
       "  <tbody>\n",
       "    <tr>\n",
       "      <th>0</th>\n",
       "      <td>AD</td>\n",
       "      <td>8029.694</td>\n",
       "      <td>0.000</td>\n",
       "      <td>8029.694</td>\n",
       "    </tr>\n",
       "    <tr>\n",
       "      <th>1</th>\n",
       "      <td>AE</td>\n",
       "      <td>1969121.158</td>\n",
       "      <td>0.000</td>\n",
       "      <td>1969121.158</td>\n",
       "    </tr>\n",
       "    <tr>\n",
       "      <th>2</th>\n",
       "      <td>AF</td>\n",
       "      <td>139997.469</td>\n",
       "      <td>1967950.000</td>\n",
       "      <td>-1827952.531</td>\n",
       "    </tr>\n",
       "    <tr>\n",
       "      <th>3</th>\n",
       "      <td>AG</td>\n",
       "      <td>1706.163</td>\n",
       "      <td>0.000</td>\n",
       "      <td>1706.163</td>\n",
       "    </tr>\n",
       "    <tr>\n",
       "      <th>4</th>\n",
       "      <td>AI</td>\n",
       "      <td>501.716</td>\n",
       "      <td>0.000</td>\n",
       "      <td>501.716</td>\n",
       "    </tr>\n",
       "  </tbody>\n",
       "</table>\n",
       "</div>"
      ],
      "text/plain": [
       "  country_code  amount_lent    borrowed  diff_lent-borrowed\n",
       "0           AD     8029.694       0.000            8029.694\n",
       "1           AE  1969121.158       0.000         1969121.158\n",
       "2           AF   139997.469 1967950.000        -1827952.531\n",
       "3           AG     1706.163       0.000            1706.163\n",
       "4           AI      501.716       0.000             501.716"
      ]
     },
     "execution_count": 36,
     "metadata": {},
     "output_type": "execute_result"
    },
    {
     "name": "stdout",
     "output_type": "stream",
     "text": [
      "time: 14.5 ms\n"
     ]
    }
   ],
   "source": [
    "df_diff_lent_borrowed.head()"
   ]
  },
  {
   "cell_type": "markdown",
   "metadata": {},
   "source": [
    "### 10. Which country has the highest ratio between the difference computed at the previous point and the population?"
   ]
  },
  {
   "cell_type": "code",
   "execution_count": 37,
   "metadata": {},
   "outputs": [
    {
     "data": {
      "text/html": [
       "<div>\n",
       "<style scoped>\n",
       "    .dataframe tbody tr th:only-of-type {\n",
       "        vertical-align: middle;\n",
       "    }\n",
       "\n",
       "    .dataframe tbody tr th {\n",
       "        vertical-align: top;\n",
       "    }\n",
       "\n",
       "    .dataframe thead th {\n",
       "        text-align: right;\n",
       "    }\n",
       "</style>\n",
       "<table border=\"1\" class=\"dataframe\">\n",
       "  <thead>\n",
       "    <tr style=\"text-align: right;\">\n",
       "      <th></th>\n",
       "      <th>country_name</th>\n",
       "      <th>country_code</th>\n",
       "      <th>population</th>\n",
       "      <th>population_below_poverty_line</th>\n",
       "    </tr>\n",
       "  </thead>\n",
       "  <tbody>\n",
       "    <tr>\n",
       "      <th>115</th>\n",
       "      <td>Namibia</td>\n",
       "      <td>NaN</td>\n",
       "      <td>2533794</td>\n",
       "      <td>28.700</td>\n",
       "    </tr>\n",
       "  </tbody>\n",
       "</table>\n",
       "</div>"
      ],
      "text/plain": [
       "    country_name country_code  population  population_below_poverty_line\n",
       "115      Namibia          NaN     2533794                         28.700"
      ]
     },
     "execution_count": 37,
     "metadata": {},
     "output_type": "execute_result"
    },
    {
     "name": "stdout",
     "output_type": "stream",
     "text": [
      "time: 19.2 ms\n"
     ]
    }
   ],
   "source": [
    "# Come nel punto precedente, il codice dello stato della Namibia è assente\n",
    "df_country_stats[df_country_stats['country_name'] == 'Namibia']"
   ]
  },
  {
   "cell_type": "code",
   "execution_count": 38,
   "metadata": {},
   "outputs": [
    {
     "name": "stdout",
     "output_type": "stream",
     "text": [
      "time: 7.02 ms\n"
     ]
    }
   ],
   "source": [
    "# Per non perdere le sue informazioni lo si inserisce manualmente\n",
    "df_country_stats.loc[df_country_stats['country_name'] == 'Namibia', 'country_code'] = 'Namibia'"
   ]
  },
  {
   "cell_type": "code",
   "execution_count": 39,
   "metadata": {},
   "outputs": [
    {
     "name": "stdout",
     "output_type": "stream",
     "text": [
      "time: 26.8 ms\n"
     ]
    }
   ],
   "source": [
    "# Si effettua il merge del dataset delle informazioni degli stati con quello della differenza di prestiti \n",
    "# calcolato al punto precedente\n",
    "df_money_state = pd.merge(df_diff_lent_borrowed, df_country_stats, on='country_code')\n",
    "\n",
    "# Calcolo del rapporto richiesto\n",
    "df_money_state['ratio_diff_L-B_pop'] = df_money_state['diff_lent-borrowed']/df_money_state['population']"
   ]
  },
  {
   "cell_type": "code",
   "execution_count": 40,
   "metadata": {},
   "outputs": [
    {
     "data": {
      "text/html": [
       "<div>\n",
       "<style scoped>\n",
       "    .dataframe tbody tr th:only-of-type {\n",
       "        vertical-align: middle;\n",
       "    }\n",
       "\n",
       "    .dataframe tbody tr th {\n",
       "        vertical-align: top;\n",
       "    }\n",
       "\n",
       "    .dataframe thead th {\n",
       "        text-align: right;\n",
       "    }\n",
       "</style>\n",
       "<table border=\"1\" class=\"dataframe\">\n",
       "  <thead>\n",
       "    <tr style=\"text-align: right;\">\n",
       "      <th></th>\n",
       "      <th>country_code</th>\n",
       "      <th>amount_lent</th>\n",
       "      <th>borrowed</th>\n",
       "      <th>diff_lent-borrowed</th>\n",
       "      <th>country_name</th>\n",
       "      <th>population</th>\n",
       "      <th>population_below_poverty_line</th>\n",
       "      <th>ratio_diff_L-B_pop</th>\n",
       "    </tr>\n",
       "  </thead>\n",
       "  <tbody>\n",
       "    <tr>\n",
       "      <th>0</th>\n",
       "      <td>AE</td>\n",
       "      <td>1969121.158</td>\n",
       "      <td>0.000</td>\n",
       "      <td>1969121.158</td>\n",
       "      <td>United Arab Emirates</td>\n",
       "      <td>9400145</td>\n",
       "      <td>19.500</td>\n",
       "      <td>0.209</td>\n",
       "    </tr>\n",
       "    <tr>\n",
       "      <th>1</th>\n",
       "      <td>AF</td>\n",
       "      <td>139997.469</td>\n",
       "      <td>1967950.000</td>\n",
       "      <td>-1827952.531</td>\n",
       "      <td>Afghanistan</td>\n",
       "      <td>35530081</td>\n",
       "      <td>35.800</td>\n",
       "      <td>-0.051</td>\n",
       "    </tr>\n",
       "    <tr>\n",
       "      <th>2</th>\n",
       "      <td>AL</td>\n",
       "      <td>27800.918</td>\n",
       "      <td>4307350.000</td>\n",
       "      <td>-4279549.082</td>\n",
       "      <td>Albania</td>\n",
       "      <td>2930187</td>\n",
       "      <td>14.300</td>\n",
       "      <td>-1.461</td>\n",
       "    </tr>\n",
       "    <tr>\n",
       "      <th>3</th>\n",
       "      <td>AM</td>\n",
       "      <td>162134.274</td>\n",
       "      <td>22950475.000</td>\n",
       "      <td>-22788340.726</td>\n",
       "      <td>Armenia</td>\n",
       "      <td>2930450</td>\n",
       "      <td>32.000</td>\n",
       "      <td>-7.776</td>\n",
       "    </tr>\n",
       "    <tr>\n",
       "      <th>4</th>\n",
       "      <td>AO</td>\n",
       "      <td>39000.678</td>\n",
       "      <td>0.000</td>\n",
       "      <td>39000.678</td>\n",
       "      <td>Angola</td>\n",
       "      <td>29784193</td>\n",
       "      <td>40.500</td>\n",
       "      <td>0.001</td>\n",
       "    </tr>\n",
       "  </tbody>\n",
       "</table>\n",
       "</div>"
      ],
      "text/plain": [
       "  country_code  amount_lent     borrowed  diff_lent-borrowed  \\\n",
       "0           AE  1969121.158        0.000         1969121.158   \n",
       "1           AF   139997.469  1967950.000        -1827952.531   \n",
       "2           AL    27800.918  4307350.000        -4279549.082   \n",
       "3           AM   162134.274 22950475.000       -22788340.726   \n",
       "4           AO    39000.678        0.000           39000.678   \n",
       "\n",
       "           country_name  population  population_below_poverty_line  \\\n",
       "0  United Arab Emirates     9400145                         19.500   \n",
       "1           Afghanistan    35530081                         35.800   \n",
       "2               Albania     2930187                         14.300   \n",
       "3               Armenia     2930450                         32.000   \n",
       "4                Angola    29784193                         40.500   \n",
       "\n",
       "   ratio_diff_L-B_pop  \n",
       "0               0.209  \n",
       "1              -0.051  \n",
       "2              -1.461  \n",
       "3              -7.776  \n",
       "4               0.001  "
      ]
     },
     "execution_count": 40,
     "metadata": {},
     "output_type": "execute_result"
    },
    {
     "name": "stdout",
     "output_type": "stream",
     "text": [
      "time: 37.1 ms\n"
     ]
    }
   ],
   "source": [
    "df_money_state.head()"
   ]
  },
  {
   "cell_type": "code",
   "execution_count": 41,
   "metadata": {},
   "outputs": [
    {
     "data": {
      "text/html": [
       "<div>\n",
       "<style scoped>\n",
       "    .dataframe tbody tr th:only-of-type {\n",
       "        vertical-align: middle;\n",
       "    }\n",
       "\n",
       "    .dataframe tbody tr th {\n",
       "        vertical-align: top;\n",
       "    }\n",
       "\n",
       "    .dataframe thead th {\n",
       "        text-align: right;\n",
       "    }\n",
       "</style>\n",
       "<table border=\"1\" class=\"dataframe\">\n",
       "  <thead>\n",
       "    <tr style=\"text-align: right;\">\n",
       "      <th></th>\n",
       "      <th>country_code</th>\n",
       "      <th>amount_lent</th>\n",
       "      <th>borrowed</th>\n",
       "      <th>diff_lent-borrowed</th>\n",
       "      <th>country_name</th>\n",
       "      <th>population</th>\n",
       "      <th>population_below_poverty_line</th>\n",
       "      <th>ratio_diff_L-B_pop</th>\n",
       "    </tr>\n",
       "  </thead>\n",
       "  <tbody>\n",
       "    <tr>\n",
       "      <th>113</th>\n",
       "      <td>NO</td>\n",
       "      <td>20671010.306</td>\n",
       "      <td>0.000</td>\n",
       "      <td>20671010.306</td>\n",
       "      <td>Norway</td>\n",
       "      <td>5305383</td>\n",
       "      <td>nan</td>\n",
       "      <td>3.896</td>\n",
       "    </tr>\n",
       "  </tbody>\n",
       "</table>\n",
       "</div>"
      ],
      "text/plain": [
       "    country_code  amount_lent  borrowed  diff_lent-borrowed country_name  \\\n",
       "113           NO 20671010.306     0.000        20671010.306       Norway   \n",
       "\n",
       "     population  population_below_poverty_line  ratio_diff_L-B_pop  \n",
       "113     5305383                            nan               3.896  "
      ]
     },
     "execution_count": 41,
     "metadata": {},
     "output_type": "execute_result"
    },
    {
     "name": "stdout",
     "output_type": "stream",
     "text": [
      "time: 23.8 ms\n"
     ]
    }
   ],
   "source": [
    "# Si trova lo stato con il rapport più grande\n",
    "df_money_state.iloc[[df_money_state['ratio_diff_L-B_pop'].idxmax()]]"
   ]
  },
  {
   "cell_type": "markdown",
   "metadata": {},
   "source": [
    "### 11. Which country has the highest ratio between the difference computed at point 9 and the population that is not below the poverty line?"
   ]
  },
  {
   "cell_type": "code",
   "execution_count": 42,
   "metadata": {},
   "outputs": [
    {
     "name": "stdout",
     "output_type": "stream",
     "text": [
      "time: 6.36 ms\n"
     ]
    }
   ],
   "source": [
    "# La colonna population_below_poverty_line è espressa in percentuale,\n",
    "# Si calcola la percentuale di persone sopra la soglia di poverà\n",
    "df_money_state['population_above_poverty_line'] = 100 - df_money_state['population_below_poverty_line']\n",
    "\n",
    "# Si calcola la quantità di popolazione al di sotto della fascia di povertà utilizzando la popolazione totale \n",
    "# e la percentuale calcolata sopra\n",
    "pop_above_poverty_line = (df_money_state['population']*df_money_state['population_above_poverty_line'])/100\n",
    "\n",
    "# Si calcola il rapport richiesto\n",
    "df_money_state['ratio_diff_L-B_pop_above_poverty'] = df_money_state['diff_lent-borrowed']/pop_above_poverty_line"
   ]
  },
  {
   "cell_type": "code",
   "execution_count": 43,
   "metadata": {},
   "outputs": [
    {
     "data": {
      "text/html": [
       "<div>\n",
       "<style scoped>\n",
       "    .dataframe tbody tr th:only-of-type {\n",
       "        vertical-align: middle;\n",
       "    }\n",
       "\n",
       "    .dataframe tbody tr th {\n",
       "        vertical-align: top;\n",
       "    }\n",
       "\n",
       "    .dataframe thead th {\n",
       "        text-align: right;\n",
       "    }\n",
       "</style>\n",
       "<table border=\"1\" class=\"dataframe\">\n",
       "  <thead>\n",
       "    <tr style=\"text-align: right;\">\n",
       "      <th></th>\n",
       "      <th>country_code</th>\n",
       "      <th>amount_lent</th>\n",
       "      <th>borrowed</th>\n",
       "      <th>diff_lent-borrowed</th>\n",
       "      <th>country_name</th>\n",
       "      <th>population</th>\n",
       "      <th>population_below_poverty_line</th>\n",
       "      <th>ratio_diff_L-B_pop</th>\n",
       "      <th>population_above_poverty_line</th>\n",
       "      <th>ratio_diff_L-B_pop_above_poverty</th>\n",
       "    </tr>\n",
       "  </thead>\n",
       "  <tbody>\n",
       "    <tr>\n",
       "      <th>0</th>\n",
       "      <td>AE</td>\n",
       "      <td>1969121.158</td>\n",
       "      <td>0.000</td>\n",
       "      <td>1969121.158</td>\n",
       "      <td>United Arab Emirates</td>\n",
       "      <td>9400145</td>\n",
       "      <td>19.500</td>\n",
       "      <td>0.209</td>\n",
       "      <td>80.500</td>\n",
       "      <td>0.260</td>\n",
       "    </tr>\n",
       "    <tr>\n",
       "      <th>1</th>\n",
       "      <td>AF</td>\n",
       "      <td>139997.469</td>\n",
       "      <td>1967950.000</td>\n",
       "      <td>-1827952.531</td>\n",
       "      <td>Afghanistan</td>\n",
       "      <td>35530081</td>\n",
       "      <td>35.800</td>\n",
       "      <td>-0.051</td>\n",
       "      <td>64.200</td>\n",
       "      <td>-0.080</td>\n",
       "    </tr>\n",
       "    <tr>\n",
       "      <th>2</th>\n",
       "      <td>AL</td>\n",
       "      <td>27800.918</td>\n",
       "      <td>4307350.000</td>\n",
       "      <td>-4279549.082</td>\n",
       "      <td>Albania</td>\n",
       "      <td>2930187</td>\n",
       "      <td>14.300</td>\n",
       "      <td>-1.461</td>\n",
       "      <td>85.700</td>\n",
       "      <td>-1.704</td>\n",
       "    </tr>\n",
       "    <tr>\n",
       "      <th>3</th>\n",
       "      <td>AM</td>\n",
       "      <td>162134.274</td>\n",
       "      <td>22950475.000</td>\n",
       "      <td>-22788340.726</td>\n",
       "      <td>Armenia</td>\n",
       "      <td>2930450</td>\n",
       "      <td>32.000</td>\n",
       "      <td>-7.776</td>\n",
       "      <td>68.000</td>\n",
       "      <td>-11.436</td>\n",
       "    </tr>\n",
       "    <tr>\n",
       "      <th>4</th>\n",
       "      <td>AO</td>\n",
       "      <td>39000.678</td>\n",
       "      <td>0.000</td>\n",
       "      <td>39000.678</td>\n",
       "      <td>Angola</td>\n",
       "      <td>29784193</td>\n",
       "      <td>40.500</td>\n",
       "      <td>0.001</td>\n",
       "      <td>59.500</td>\n",
       "      <td>0.002</td>\n",
       "    </tr>\n",
       "  </tbody>\n",
       "</table>\n",
       "</div>"
      ],
      "text/plain": [
       "  country_code  amount_lent     borrowed  diff_lent-borrowed  \\\n",
       "0           AE  1969121.158        0.000         1969121.158   \n",
       "1           AF   139997.469  1967950.000        -1827952.531   \n",
       "2           AL    27800.918  4307350.000        -4279549.082   \n",
       "3           AM   162134.274 22950475.000       -22788340.726   \n",
       "4           AO    39000.678        0.000           39000.678   \n",
       "\n",
       "           country_name  population  population_below_poverty_line  \\\n",
       "0  United Arab Emirates     9400145                         19.500   \n",
       "1           Afghanistan    35530081                         35.800   \n",
       "2               Albania     2930187                         14.300   \n",
       "3               Armenia     2930450                         32.000   \n",
       "4                Angola    29784193                         40.500   \n",
       "\n",
       "   ratio_diff_L-B_pop  population_above_poverty_line  \\\n",
       "0               0.209                         80.500   \n",
       "1              -0.051                         64.200   \n",
       "2              -1.461                         85.700   \n",
       "3              -7.776                         68.000   \n",
       "4               0.001                         59.500   \n",
       "\n",
       "   ratio_diff_L-B_pop_above_poverty  \n",
       "0                             0.260  \n",
       "1                            -0.080  \n",
       "2                            -1.704  \n",
       "3                           -11.436  \n",
       "4                             0.002  "
      ]
     },
     "execution_count": 43,
     "metadata": {},
     "output_type": "execute_result"
    },
    {
     "name": "stdout",
     "output_type": "stream",
     "text": [
      "time: 18.7 ms\n"
     ]
    }
   ],
   "source": [
    "df_money_state.head()"
   ]
  },
  {
   "cell_type": "code",
   "execution_count": 44,
   "metadata": {},
   "outputs": [
    {
     "data": {
      "text/html": [
       "<div>\n",
       "<style scoped>\n",
       "    .dataframe tbody tr th:only-of-type {\n",
       "        vertical-align: middle;\n",
       "    }\n",
       "\n",
       "    .dataframe tbody tr th {\n",
       "        vertical-align: top;\n",
       "    }\n",
       "\n",
       "    .dataframe thead th {\n",
       "        text-align: right;\n",
       "    }\n",
       "</style>\n",
       "<table border=\"1\" class=\"dataframe\">\n",
       "  <thead>\n",
       "    <tr style=\"text-align: right;\">\n",
       "      <th></th>\n",
       "      <th>country_code</th>\n",
       "      <th>amount_lent</th>\n",
       "      <th>borrowed</th>\n",
       "      <th>diff_lent-borrowed</th>\n",
       "      <th>country_name</th>\n",
       "      <th>population</th>\n",
       "      <th>population_below_poverty_line</th>\n",
       "      <th>ratio_diff_L-B_pop</th>\n",
       "      <th>population_above_poverty_line</th>\n",
       "      <th>ratio_diff_L-B_pop_above_poverty</th>\n",
       "    </tr>\n",
       "  </thead>\n",
       "  <tbody>\n",
       "    <tr>\n",
       "      <th>24</th>\n",
       "      <td>CA</td>\n",
       "      <td>102261495.315</td>\n",
       "      <td>50000.000</td>\n",
       "      <td>102211495.315</td>\n",
       "      <td>Canada</td>\n",
       "      <td>36624199</td>\n",
       "      <td>9.400</td>\n",
       "      <td>2.791</td>\n",
       "      <td>90.600</td>\n",
       "      <td>3.080</td>\n",
       "    </tr>\n",
       "  </tbody>\n",
       "</table>\n",
       "</div>"
      ],
      "text/plain": [
       "   country_code   amount_lent  borrowed  diff_lent-borrowed country_name  \\\n",
       "24           CA 102261495.315 50000.000       102211495.315       Canada   \n",
       "\n",
       "    population  population_below_poverty_line  ratio_diff_L-B_pop  \\\n",
       "24    36624199                          9.400               2.791   \n",
       "\n",
       "    population_above_poverty_line  ratio_diff_L-B_pop_above_poverty  \n",
       "24                         90.600                             3.080  "
      ]
     },
     "execution_count": 44,
     "metadata": {},
     "output_type": "execute_result"
    },
    {
     "name": "stdout",
     "output_type": "stream",
     "text": [
      "time: 21.8 ms\n"
     ]
    }
   ],
   "source": [
    "# Si trova lo stato con il rapport più grande\n",
    "df_money_state.iloc[[df_money_state['ratio_diff_L-B_pop_above_poverty'].idxmax()]]"
   ]
  },
  {
   "cell_type": "markdown",
   "metadata": {},
   "source": [
    "### 12. For each year, compute the total amount of loans. Each loan that has planned expiration time and disburse time in different years must have its amount distributed proportionally to the number of days in each year. For example, a loan with disburse time December 1st, 2016, planned expiration time January 30th 2018, and amount 5000USD has an amount of 5000USD * 31 / (31+365+30) = 363.85 for 2016, 5000USD * 365 / (31+365+30) = 4284.04 for 2017, and 5000USD * 30 / (31+365+30) = 352.11 for 2018."
   ]
  },
  {
   "cell_type": "markdown",
   "metadata": {},
   "source": [
    "Ci sono tre possibili casi da considerare:\n",
    "1. i loans per cui le date di disburse_time e planned_expiration_time sono presenti e sono coerenti, \n",
    "   cioè quando planned_expiration_time > disburse_time\n",
    "2. i loans in cui le due date sono presenti ma si ha planned_expiration_time > disburse_time\n",
    "3. i loans per cui almeno una delle due date non è presente\n",
    "\n",
    "Il primo passaggio consiste ne separare le righe del caso 3 dalle altre, per questi loans non è possibile \n",
    "calcolare i dati richiesti, si sostiuiranno i dati mancanti con 0.\n",
    "\n",
    "Il passo successivo sarà distinguere i loans appartenenti al caso 1 da quelli appartenenti al caso 2,\n",
    "nel primo caso si procederà per il calcolo dell'ammontere per anno.\n",
    "\n",
    "Per i lenders che appartengono al caso 2, dato che non è possibile ricevere un prestito dopo la data della \n",
    "sua scadenza, si considerano i due valori come identici, in particolare uguali a disburse_time."
   ]
  },
  {
   "cell_type": "code",
   "execution_count": 45,
   "metadata": {},
   "outputs": [
    {
     "name": "stdout",
     "output_type": "stream",
     "text": [
      "time: 871 ms\n"
     ]
    }
   ],
   "source": [
    "# Si separano i lender con valori mancanti dagli altri\n",
    "df_loans_na = df_loans[df_loans['disburse_time'].isna() | df_loans['planned_expiration_time'].isna()]\n",
    "df_loans_no_na = df_loans.dropna(subset=['disburse_time', 'planned_expiration_time'])"
   ]
  },
  {
   "cell_type": "code",
   "execution_count": 46,
   "metadata": {},
   "outputs": [
    {
     "name": "stdout",
     "output_type": "stream",
     "text": [
      "<class 'pandas.core.frame.DataFrame'>\n",
      "Int64Index: 374645 entries, 64 to 1419564\n",
      "Data columns (total 9 columns):\n",
      " #   Column                   Non-Null Count   Dtype              \n",
      "---  ------                   --------------   -----              \n",
      " 0   loan_id                  374645 non-null  int64              \n",
      " 1   loan_name                358121 non-null  object             \n",
      " 2   loan_amount              374645 non-null  float64            \n",
      " 3   country_code             374645 non-null  object             \n",
      " 4   country_name             374645 non-null  object             \n",
      " 5   planned_expiration_time  2811 non-null    datetime64[ns, UTC]\n",
      " 6   disburse_time            371832 non-null  datetime64[ns, UTC]\n",
      " 7   diff_days                0 non-null       float64            \n",
      " 8   disburse_year            374645 non-null  object             \n",
      "dtypes: datetime64[ns, UTC](2), float64(2), int64(1), object(4)\n",
      "memory usage: 28.6+ MB\n",
      "\n",
      "=================================================================\n",
      "\n",
      "<class 'pandas.core.frame.DataFrame'>\n",
      "Int64Index: 1044962 entries, 0 to 1419606\n",
      "Data columns (total 9 columns):\n",
      " #   Column                   Non-Null Count    Dtype              \n",
      "---  ------                   --------------    -----              \n",
      " 0   loan_id                  1044962 non-null  int64              \n",
      " 1   loan_name                1013928 non-null  object             \n",
      " 2   loan_amount              1044962 non-null  float64            \n",
      " 3   country_code             1044962 non-null  object             \n",
      " 4   country_name             1044962 non-null  object             \n",
      " 5   planned_expiration_time  1044962 non-null  datetime64[ns, UTC]\n",
      " 6   disburse_time            1044962 non-null  datetime64[ns, UTC]\n",
      " 7   diff_days                1044962 non-null  float64            \n",
      " 8   disburse_year            1044962 non-null  object             \n",
      "dtypes: datetime64[ns, UTC](2), float64(2), int64(1), object(4)\n",
      "memory usage: 79.7+ MB\n",
      "time: 312 ms\n"
     ]
    }
   ],
   "source": [
    "# info dei due dataframe\n",
    "df_loans_na.info()\n",
    "print('\\n=================================================================\\n')\n",
    "df_loans_no_na.info()"
   ]
  },
  {
   "cell_type": "code",
   "execution_count": 47,
   "metadata": {},
   "outputs": [
    {
     "name": "stdout",
     "output_type": "stream",
     "text": [
      "time: 80.8 ms\n"
     ]
    }
   ],
   "source": [
    "# Si gestiscono i casi in cui le due date non sono corenti\n",
    "loans_inc = df_loans_no_na['disburse_time'] > df_loans_no_na['planned_expiration_time']\n",
    "\n",
    "df_loans_no_na.loc[loans_inc, 'planned_expiration_time'] = df_loans_no_na.loc[loans_inc, 'disburse_time']"
   ]
  },
  {
   "cell_type": "code",
   "execution_count": 48,
   "metadata": {},
   "outputs": [
    {
     "name": "stdout",
     "output_type": "stream",
     "text": [
      "time: 14.4 ms\n"
     ]
    }
   ],
   "source": [
    "def get_amount_x_year(row):\n",
    "    '''\n",
    "    Riceve in input una riga del dataset e calcola, per ogni anno tra disburse_time e planned_expiration_time,\n",
    "    la quantità di giorni di quell'anno. Nel caso di disburse_time considera i giorni dalla data fino alla fine \n",
    "    dell'anno, nel caso di planned_expiration_time considera i giorni passati dall'inizio dell'anno alla data in \n",
    "    questione. Ritorna un dizionario le cui chiavi sono gli anni all'interno del periodo considerato e i valori\n",
    "    sono l'ammontare del loan per quell'anno dell'anno calcolati come descritto.\n",
    "    ...\n",
    "\n",
    "    Parameters\n",
    "    ----------\n",
    "    row : pandas.core.series.Series\n",
    "        La riga del dataset\n",
    "    \n",
    "    Returns\n",
    "    -------\n",
    "    dict\n",
    "        dizionario di con le informazioni del loan(id, name, amount), i giorni del prestito e per ogni anno\n",
    "        l'importo in base ai giorni trascorsi\n",
    "    '''\n",
    "    \n",
    "    # Si estraggono gli anni in mezzo\n",
    "    planned = row['planned_expiration_time']\n",
    "    disburse = row['disburse_time']\n",
    "    \n",
    "    # Calcolo degli anni tra disburse e planned esclusi loro stessi\n",
    "    range_year = list(range(disburse.year + 1, planned.year))\n",
    "    \n",
    "    tot_amount = row['loan_amount']\n",
    "    tot_days = (planned - disburse).days\n",
    "    \n",
    "    amount_x_year = dict()\n",
    "    \n",
    "    # Si inseriscono i dati iniziali del prestito\n",
    "    amount_x_year.update({\n",
    "        'loan_id': row['loan_id'], \n",
    "        'loan_name': row['loan_name'], \n",
    "        'loan_amount': tot_amount,\n",
    "        'days_loan': tot_days\n",
    "    })\n",
    "    \n",
    "    # Se planned e disburse hanno lo stesso anno, considero solo la loro differenza in giorni\n",
    "    if planned.year == disburse.year:\n",
    "        amount_x_year[planned.year] = tot_amount\n",
    "        \n",
    "    # Altrimenti se gli anni sono differenti si aggiungono entrambi\n",
    "    else:\n",
    "        # Per disburse devo calcolare quelli che rimangono fino alla fine dell'anno,\n",
    "        # Si calcolano i giorni totali dell'anno in questione che vengono tolti ai giorni dell'anno passati \n",
    "        # fino a disburse\n",
    "        days_x_year = pd.Period('{}-12-31'.format(disburse.year)).dayofyear - disburse.dayofyear\n",
    "        \n",
    "        # Calcolo dell'ammontare per l'anno disburse\n",
    "        amount_x_year[disburse.year] = tot_amount*(days_x_year/tot_days)\n",
    "        \n",
    "        # Per planned si calcolano i giorni passati fino alla data in questione\n",
    "        # e l'ammontare per l'anno planned\n",
    "        amount_x_year[planned.year] = tot_amount*((planned.dayofyear-1)/tot_days)\n",
    "        \n",
    "        # Per gli anni all'interno del range aggiungo coppia (anno, ammontere per quell'anno) al dict\n",
    "        if range_year:\n",
    "            amount_x_year.update({\n",
    "                k: tot_amount*(pd.Period('{}-12-31'.format(k)).dayofyear/tot_days) for k in range_year\n",
    "            })\n",
    "            \n",
    "    return amount_x_year\n"
   ]
  },
  {
   "cell_type": "code",
   "execution_count": 49,
   "metadata": {},
   "outputs": [
    {
     "name": "stdout",
     "output_type": "stream",
     "text": [
      "time: 6min 30s\n"
     ]
    }
   ],
   "source": [
    "# Calcolo del prestito per ogni anno\n",
    "res = df_loans_no_na.apply(lambda x: get_amount_x_year(x), axis=1)"
   ]
  },
  {
   "cell_type": "code",
   "execution_count": 50,
   "metadata": {},
   "outputs": [
    {
     "name": "stdout",
     "output_type": "stream",
     "text": [
      "time: 3.12 s\n"
     ]
    }
   ],
   "source": [
    "# Creazione del dataframe e riordino delle colonne\n",
    "df_res = pd.DataFrame(list(res))\n",
    "df_res.columns = list(map(str, df_res.columns))\n",
    "cols_reorder = ['loan_id', 'loan_name', 'loan_amount', 'days_loan', '2011', \n",
    "                '2012', '2013', '2014', '2015', '2016', '2017', '2018']\n",
    "df_res = df_res.reindex(cols_reorder, axis=1)\n"
   ]
  },
  {
   "cell_type": "code",
   "execution_count": 51,
   "metadata": {},
   "outputs": [
    {
     "data": {
      "text/html": [
       "<div>\n",
       "<style scoped>\n",
       "    .dataframe tbody tr th:only-of-type {\n",
       "        vertical-align: middle;\n",
       "    }\n",
       "\n",
       "    .dataframe tbody tr th {\n",
       "        vertical-align: top;\n",
       "    }\n",
       "\n",
       "    .dataframe thead th {\n",
       "        text-align: right;\n",
       "    }\n",
       "</style>\n",
       "<table border=\"1\" class=\"dataframe\">\n",
       "  <thead>\n",
       "    <tr style=\"text-align: right;\">\n",
       "      <th></th>\n",
       "      <th>loan_id</th>\n",
       "      <th>loan_name</th>\n",
       "      <th>loan_amount</th>\n",
       "      <th>days_loan</th>\n",
       "      <th>2011</th>\n",
       "      <th>2012</th>\n",
       "      <th>2013</th>\n",
       "      <th>2014</th>\n",
       "      <th>2015</th>\n",
       "      <th>2016</th>\n",
       "      <th>2017</th>\n",
       "      <th>2018</th>\n",
       "    </tr>\n",
       "  </thead>\n",
       "  <tbody>\n",
       "    <tr>\n",
       "      <th>0</th>\n",
       "      <td>657307</td>\n",
       "      <td>Aivy</td>\n",
       "      <td>125.000</td>\n",
       "      <td>53</td>\n",
       "      <td>nan</td>\n",
       "      <td>nan</td>\n",
       "      <td>21.226</td>\n",
       "      <td>103.774</td>\n",
       "      <td>nan</td>\n",
       "      <td>nan</td>\n",
       "      <td>nan</td>\n",
       "      <td>nan</td>\n",
       "    </tr>\n",
       "    <tr>\n",
       "      <th>1</th>\n",
       "      <td>657259</td>\n",
       "      <td>Idalia Marizza</td>\n",
       "      <td>400.000</td>\n",
       "      <td>96</td>\n",
       "      <td>nan</td>\n",
       "      <td>nan</td>\n",
       "      <td>45.833</td>\n",
       "      <td>350.000</td>\n",
       "      <td>nan</td>\n",
       "      <td>nan</td>\n",
       "      <td>nan</td>\n",
       "      <td>nan</td>\n",
       "    </tr>\n",
       "    <tr>\n",
       "      <th>2</th>\n",
       "      <td>658010</td>\n",
       "      <td>Aasia</td>\n",
       "      <td>400.000</td>\n",
       "      <td>37</td>\n",
       "      <td>nan</td>\n",
       "      <td>nan</td>\n",
       "      <td>nan</td>\n",
       "      <td>400.000</td>\n",
       "      <td>nan</td>\n",
       "      <td>nan</td>\n",
       "      <td>nan</td>\n",
       "      <td>nan</td>\n",
       "    </tr>\n",
       "    <tr>\n",
       "      <th>3</th>\n",
       "      <td>659347</td>\n",
       "      <td>Gulmira</td>\n",
       "      <td>625.000</td>\n",
       "      <td>34</td>\n",
       "      <td>nan</td>\n",
       "      <td>nan</td>\n",
       "      <td>nan</td>\n",
       "      <td>625.000</td>\n",
       "      <td>nan</td>\n",
       "      <td>nan</td>\n",
       "      <td>nan</td>\n",
       "      <td>nan</td>\n",
       "    </tr>\n",
       "    <tr>\n",
       "      <th>4</th>\n",
       "      <td>656933</td>\n",
       "      <td>Ricky\\t</td>\n",
       "      <td>425.000</td>\n",
       "      <td>57</td>\n",
       "      <td>nan</td>\n",
       "      <td>nan</td>\n",
       "      <td>104.386</td>\n",
       "      <td>320.614</td>\n",
       "      <td>nan</td>\n",
       "      <td>nan</td>\n",
       "      <td>nan</td>\n",
       "      <td>nan</td>\n",
       "    </tr>\n",
       "  </tbody>\n",
       "</table>\n",
       "</div>"
      ],
      "text/plain": [
       "   loan_id       loan_name  loan_amount  days_loan  2011  2012    2013  \\\n",
       "0   657307            Aivy      125.000         53   nan   nan  21.226   \n",
       "1   657259  Idalia Marizza      400.000         96   nan   nan  45.833   \n",
       "2   658010           Aasia      400.000         37   nan   nan     nan   \n",
       "3   659347         Gulmira      625.000         34   nan   nan     nan   \n",
       "4   656933         Ricky\\t      425.000         57   nan   nan 104.386   \n",
       "\n",
       "     2014  2015  2016  2017  2018  \n",
       "0 103.774   nan   nan   nan   nan  \n",
       "1 350.000   nan   nan   nan   nan  \n",
       "2 400.000   nan   nan   nan   nan  \n",
       "3 625.000   nan   nan   nan   nan  \n",
       "4 320.614   nan   nan   nan   nan  "
      ]
     },
     "execution_count": 51,
     "metadata": {},
     "output_type": "execute_result"
    },
    {
     "name": "stdout",
     "output_type": "stream",
     "text": [
      "time: 19.5 ms\n"
     ]
    }
   ],
   "source": [
    "df_res.head()"
   ]
  },
  {
   "cell_type": "code",
   "execution_count": 52,
   "metadata": {},
   "outputs": [
    {
     "name": "stdout",
     "output_type": "stream",
     "text": [
      "time: 83.3 ms\n"
     ]
    }
   ],
   "source": [
    "# Gestione dei record con almeno una delle due date mancanti, si creano le colonne degli anni e dei giorni passati\n",
    "# che contengono solo na\n",
    "df_na_sel = df_loans_na[['loan_id', 'loan_name','loan_amount']]\n",
    "df_na_sel[['days_loan', '2011', '2012', '2013', '2014', '2015', '2016', '2017', '2018']] = pd.DataFrame(\n",
    "    [np.full([9], np.nan)], index=df_na_sel.index)"
   ]
  },
  {
   "cell_type": "code",
   "execution_count": 53,
   "metadata": {},
   "outputs": [
    {
     "name": "stdout",
     "output_type": "stream",
     "text": [
      "time: 964 ms\n"
     ]
    }
   ],
   "source": [
    "# Concatenazione dei due dataset\n",
    "df_res = pd.concat([df_res, df_na_sel])"
   ]
  },
  {
   "cell_type": "code",
   "execution_count": 54,
   "metadata": {},
   "outputs": [
    {
     "data": {
      "text/html": [
       "<div>\n",
       "<style scoped>\n",
       "    .dataframe tbody tr th:only-of-type {\n",
       "        vertical-align: middle;\n",
       "    }\n",
       "\n",
       "    .dataframe tbody tr th {\n",
       "        vertical-align: top;\n",
       "    }\n",
       "\n",
       "    .dataframe thead th {\n",
       "        text-align: right;\n",
       "    }\n",
       "</style>\n",
       "<table border=\"1\" class=\"dataframe\">\n",
       "  <thead>\n",
       "    <tr style=\"text-align: right;\">\n",
       "      <th></th>\n",
       "      <th>loan_id</th>\n",
       "      <th>loan_name</th>\n",
       "      <th>loan_amount</th>\n",
       "      <th>days_loan</th>\n",
       "      <th>2011</th>\n",
       "      <th>2012</th>\n",
       "      <th>2013</th>\n",
       "      <th>2014</th>\n",
       "      <th>2015</th>\n",
       "      <th>2016</th>\n",
       "      <th>2017</th>\n",
       "      <th>2018</th>\n",
       "    </tr>\n",
       "  </thead>\n",
       "  <tbody>\n",
       "    <tr>\n",
       "      <th>0</th>\n",
       "      <td>657307</td>\n",
       "      <td>Aivy</td>\n",
       "      <td>125.000</td>\n",
       "      <td>53.000</td>\n",
       "      <td>nan</td>\n",
       "      <td>nan</td>\n",
       "      <td>21.226</td>\n",
       "      <td>103.774</td>\n",
       "      <td>nan</td>\n",
       "      <td>nan</td>\n",
       "      <td>nan</td>\n",
       "      <td>nan</td>\n",
       "    </tr>\n",
       "    <tr>\n",
       "      <th>1</th>\n",
       "      <td>657259</td>\n",
       "      <td>Idalia Marizza</td>\n",
       "      <td>400.000</td>\n",
       "      <td>96.000</td>\n",
       "      <td>nan</td>\n",
       "      <td>nan</td>\n",
       "      <td>45.833</td>\n",
       "      <td>350.000</td>\n",
       "      <td>nan</td>\n",
       "      <td>nan</td>\n",
       "      <td>nan</td>\n",
       "      <td>nan</td>\n",
       "    </tr>\n",
       "    <tr>\n",
       "      <th>2</th>\n",
       "      <td>658010</td>\n",
       "      <td>Aasia</td>\n",
       "      <td>400.000</td>\n",
       "      <td>37.000</td>\n",
       "      <td>nan</td>\n",
       "      <td>nan</td>\n",
       "      <td>nan</td>\n",
       "      <td>400.000</td>\n",
       "      <td>nan</td>\n",
       "      <td>nan</td>\n",
       "      <td>nan</td>\n",
       "      <td>nan</td>\n",
       "    </tr>\n",
       "    <tr>\n",
       "      <th>3</th>\n",
       "      <td>659347</td>\n",
       "      <td>Gulmira</td>\n",
       "      <td>625.000</td>\n",
       "      <td>34.000</td>\n",
       "      <td>nan</td>\n",
       "      <td>nan</td>\n",
       "      <td>nan</td>\n",
       "      <td>625.000</td>\n",
       "      <td>nan</td>\n",
       "      <td>nan</td>\n",
       "      <td>nan</td>\n",
       "      <td>nan</td>\n",
       "    </tr>\n",
       "    <tr>\n",
       "      <th>4</th>\n",
       "      <td>656933</td>\n",
       "      <td>Ricky\\t</td>\n",
       "      <td>425.000</td>\n",
       "      <td>57.000</td>\n",
       "      <td>nan</td>\n",
       "      <td>nan</td>\n",
       "      <td>104.386</td>\n",
       "      <td>320.614</td>\n",
       "      <td>nan</td>\n",
       "      <td>nan</td>\n",
       "      <td>nan</td>\n",
       "      <td>nan</td>\n",
       "    </tr>\n",
       "  </tbody>\n",
       "</table>\n",
       "</div>"
      ],
      "text/plain": [
       "   loan_id       loan_name  loan_amount  days_loan  2011  2012    2013  \\\n",
       "0   657307            Aivy      125.000     53.000   nan   nan  21.226   \n",
       "1   657259  Idalia Marizza      400.000     96.000   nan   nan  45.833   \n",
       "2   658010           Aasia      400.000     37.000   nan   nan     nan   \n",
       "3   659347         Gulmira      625.000     34.000   nan   nan     nan   \n",
       "4   656933         Ricky\\t      425.000     57.000   nan   nan 104.386   \n",
       "\n",
       "     2014  2015  2016  2017  2018  \n",
       "0 103.774   nan   nan   nan   nan  \n",
       "1 350.000   nan   nan   nan   nan  \n",
       "2 400.000   nan   nan   nan   nan  \n",
       "3 625.000   nan   nan   nan   nan  \n",
       "4 320.614   nan   nan   nan   nan  "
      ]
     },
     "execution_count": 54,
     "metadata": {},
     "output_type": "execute_result"
    },
    {
     "name": "stdout",
     "output_type": "stream",
     "text": [
      "time: 18.7 ms\n"
     ]
    }
   ],
   "source": [
    "df_res.head()"
   ]
  },
  {
   "cell_type": "code",
   "execution_count": 55,
   "metadata": {},
   "outputs": [
    {
     "data": {
      "text/html": [
       "<div>\n",
       "<style scoped>\n",
       "    .dataframe tbody tr th:only-of-type {\n",
       "        vertical-align: middle;\n",
       "    }\n",
       "\n",
       "    .dataframe tbody tr th {\n",
       "        vertical-align: top;\n",
       "    }\n",
       "\n",
       "    .dataframe thead th {\n",
       "        text-align: right;\n",
       "    }\n",
       "</style>\n",
       "<table border=\"1\" class=\"dataframe\">\n",
       "  <thead>\n",
       "    <tr style=\"text-align: right;\">\n",
       "      <th></th>\n",
       "      <th>index</th>\n",
       "      <th>Total Amount</th>\n",
       "    </tr>\n",
       "  </thead>\n",
       "  <tbody>\n",
       "    <tr>\n",
       "      <th>0</th>\n",
       "      <td>2011</td>\n",
       "      <td>631678.344</td>\n",
       "    </tr>\n",
       "    <tr>\n",
       "      <th>1</th>\n",
       "      <td>2012</td>\n",
       "      <td>113276514.286</td>\n",
       "    </tr>\n",
       "    <tr>\n",
       "      <th>2</th>\n",
       "      <td>2013</td>\n",
       "      <td>124798037.059</td>\n",
       "    </tr>\n",
       "    <tr>\n",
       "      <th>3</th>\n",
       "      <td>2014</td>\n",
       "      <td>152880159.407</td>\n",
       "    </tr>\n",
       "    <tr>\n",
       "      <th>4</th>\n",
       "      <td>2015</td>\n",
       "      <td>159519008.035</td>\n",
       "    </tr>\n",
       "    <tr>\n",
       "      <th>5</th>\n",
       "      <td>2016</td>\n",
       "      <td>158988480.604</td>\n",
       "    </tr>\n",
       "    <tr>\n",
       "      <th>6</th>\n",
       "      <td>2017</td>\n",
       "      <td>172242358.528</td>\n",
       "    </tr>\n",
       "    <tr>\n",
       "      <th>7</th>\n",
       "      <td>2018</td>\n",
       "      <td>5700798.386</td>\n",
       "    </tr>\n",
       "  </tbody>\n",
       "</table>\n",
       "</div>"
      ],
      "text/plain": [
       "  index  Total Amount\n",
       "0  2011    631678.344\n",
       "1  2012 113276514.286\n",
       "2  2013 124798037.059\n",
       "3  2014 152880159.407\n",
       "4  2015 159519008.035\n",
       "5  2016 158988480.604\n",
       "6  2017 172242358.528\n",
       "7  2018   5700798.386"
      ]
     },
     "execution_count": 55,
     "metadata": {},
     "output_type": "execute_result"
    },
    {
     "name": "stdout",
     "output_type": "stream",
     "text": [
      "time: 1.98 s\n"
     ]
    }
   ],
   "source": [
    "df_res[['2011', '2012', '2013', '2014', '2015', '2016', '2017', '2018']].sum().reset_index(name ='Total Amount')"
   ]
  }
 ],
 "metadata": {
  "kernelspec": {
   "display_name": "Python 3",
   "language": "python",
   "name": "python3"
  },
  "language_info": {
   "codemirror_mode": {
    "name": "ipython",
    "version": 3
   },
   "file_extension": ".py",
   "mimetype": "text/x-python",
   "name": "python",
   "nbconvert_exporter": "python",
   "pygments_lexer": "ipython3",
   "version": "3.6.10"
  }
 },
 "nbformat": 4,
 "nbformat_minor": 4
}
