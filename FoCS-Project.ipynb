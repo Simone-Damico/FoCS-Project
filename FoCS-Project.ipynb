{
 "cells": [
  {
   "cell_type": "markdown",
   "metadata": {},
   "source": [
    "# Progetto di Foundation of computer science"
   ]
  },
  {
   "cell_type": "markdown",
   "metadata": {},
   "source": [
    "### Corso di laurea in Data Science A.A 2019/2020"
   ]
  },
  {
   "cell_type": "markdown",
   "metadata": {},
   "source": [
    "### Simone D'Amico - 850369"
   ]
  },
  {
   "cell_type": "code",
   "execution_count": null,
   "metadata": {},
   "outputs": [],
   "source": [
    "# Import delle libreire usate\n",
    "import pandas as pd\n",
    "import numpy as np"
   ]
  },
  {
   "cell_type": "code",
   "execution_count": null,
   "metadata": {},
   "outputs": [],
   "source": [
    "# Caricamento del tempo di esecuzione di ogni cella\n",
    "%load_ext autotime\n",
    "\n",
    "# Definizione del formato per i numeri decimali, si mostra fino alla terza cifra decimale inclusa\n",
    "pd.set_option('display.float_format', lambda x: '%.3f' % x)\n",
    "pd.options.mode.chained_assignment = None"
   ]
  },
  {
   "cell_type": "markdown",
   "metadata": {},
   "source": [
    "### Caricamento dei dataset utilizzati"
   ]
  },
  {
   "cell_type": "code",
   "execution_count": null,
   "metadata": {},
   "outputs": [],
   "source": [
    "# Per motivi di tempo e di memoria sono caricate dai dataset solo le colonne usate per i vari task\n",
    "\n",
    "df_loans_lenders = pd.read_csv(\"loans_lenders.csv\")\n",
    "\n",
    "use_col_loans =[\"loan_id\", \"loan_name\", \"disburse_time\", \"planned_expiration_time\", \n",
    "                \"country_name\", \"loan_amount\", \"country_code\",]\n",
    "date_type = [\"disburse_time\", \"planned_expiration_time\"]\n",
    "df_loans = pd.read_csv(\"loans.csv\", usecols=use_col_loans, parse_dates=date_type)\n",
    "\n",
    "\n",
    "use_col_lenders =[\"permanent_name\", 'city', 'state', \"country_code\"]\n",
    "df_lenders = pd.read_csv(\"lenders.csv\", usecols=use_col_lenders)\n",
    "\n",
    "\n",
    "used_col_country = ['country_name', 'country_code', 'population', 'population_below_poverty_line']\n",
    "df_country_stats = pd.read_csv('country_stats.csv', usecols=used_col_country)"
   ]
  },
  {
   "cell_type": "markdown",
   "metadata": {},
   "source": [
    "### 1. Normalize the loan_lenders table. In the normalized table, each row must have one `loan_id` and one lender."
   ]
  },
  {
   "cell_type": "code",
   "execution_count": null,
   "metadata": {
    "scrolled": true
   },
   "outputs": [],
   "source": [
    "# Partendo dal dataset df_loans_lenders si usano come indici loan_id, così si conservano durante l'esecuzione. \n",
    "# Ogni valore di lenders viene trasformato in una lista e, grazie a explode, \n",
    "# si ottengono le coppie (loan, specifico lender)\n",
    "df_loan_lender_norm = df_loans_lenders.set_index(['loan_id']).apply(\n",
    "    lambda x: x.str.split(\", \").explode()).reset_index()"
   ]
  },
  {
   "cell_type": "code",
   "execution_count": null,
   "metadata": {
    "scrolled": false
   },
   "outputs": [],
   "source": [
    "df_loan_lender_norm.head()"
   ]
  },
  {
   "cell_type": "markdown",
   "metadata": {},
   "source": [
    "### 2. For each loan, add a column duration corresponding to the number of days between the disburse time and the planned expiration time. If any of those two dates is missing, also the duration must be missing."
   ]
  },
  {
   "cell_type": "code",
   "execution_count": null,
   "metadata": {},
   "outputs": [],
   "source": [
    "# Si calcola la differenza in giorni tra le colonne delle date e si considerano i giorni\n",
    "df_loans[\"diff_days\"] = (df_loans[\"planned_expiration_time\"] - df_loans[\"disburse_time\"]).dt.days"
   ]
  },
  {
   "cell_type": "code",
   "execution_count": null,
   "metadata": {
    "scrolled": true
   },
   "outputs": [],
   "source": [
    "df_loans.head()"
   ]
  },
  {
   "cell_type": "code",
   "execution_count": null,
   "metadata": {},
   "outputs": [],
   "source": [
    "# Per verificare che le righe della colonna diff_days siano mancanti se almeno una delle colonne \n",
    "# planned_expiration_time o disburse_time è mancante si può usare la funzione info()\n",
    "\n",
    "df_loans[df_loans['planned_expiration_time'].isnull()].info()\n",
    "\n",
    "print(\"\\n--------------------------------------------------------------\\n\")\n",
    "\n",
    "df_loans[df_loans['disburse_time'].isnull()].info()"
   ]
  },
  {
   "cell_type": "markdown",
   "metadata": {},
   "source": [
    "### 3. Find the lenders that have funded at least twice."
   ]
  },
  {
   "cell_type": "code",
   "execution_count": null,
   "metadata": {},
   "outputs": [],
   "source": [
    "# Si raggruppa per lender e si ottiene il numero di record di ogni gruppo\n",
    "count = df_loan_lender_norm.groupby(['lenders']).size()\n",
    "\n",
    "# Si selezionano solo i lenders che hanno finanziato due o più volte \n",
    "count = count[count >=2]\n",
    "\n",
    "# Si definisce un dataset per mostrare il risultato\n",
    "df_count = count.reset_index(name='count')"
   ]
  },
  {
   "cell_type": "markdown",
   "metadata": {},
   "source": [
    "### 4. For each country, compute how many loans have involved that country as borrowers."
   ]
  },
  {
   "cell_type": "code",
   "execution_count": null,
   "metadata": {
    "scrolled": true
   },
   "outputs": [],
   "source": [
    "# Si può usare value_count applicato alla colonna country_name per contare le occorrenze di ogni paese \n",
    "# ottienendo un dataframe \n",
    "df_count_loans = df_loans[\"country_name\"].value_counts().reset_index()\n",
    "\n",
    "df_count_loans = df_count_loans.rename(columns= {'index': 'country_name', 'country_name': 'count'})"
   ]
  },
  {
   "cell_type": "code",
   "execution_count": null,
   "metadata": {},
   "outputs": [],
   "source": [
    "df_count_loans.head()"
   ]
  },
  {
   "cell_type": "markdown",
   "metadata": {},
   "source": [
    "### 5. For each country, compute the overall amount of money borrowed."
   ]
  },
  {
   "cell_type": "code",
   "execution_count": null,
   "metadata": {
    "scrolled": true
   },
   "outputs": [],
   "source": [
    "# Si raggruppano i loans per country_name e si calcola la somma di loan_amount per ogni gruppo\n",
    "df_overall_borrowed = df_loans.groupby(\"country_name\")[\"loan_amount\"].sum().reset_index(name='tot_borrow')"
   ]
  },
  {
   "cell_type": "code",
   "execution_count": null,
   "metadata": {},
   "outputs": [],
   "source": [
    "df_overall_borrowed.head()"
   ]
  },
  {
   "cell_type": "markdown",
   "metadata": {},
   "source": [
    "### 6. Like the previous point, but expressed as a percentage of the overall amount lent."
   ]
  },
  {
   "cell_type": "code",
   "execution_count": null,
   "metadata": {
    "scrolled": true
   },
   "outputs": [],
   "source": [
    "# Si calcola la somma totale dei prestiti\n",
    "tot_borrow = df_overall_borrowed[\"tot_borrow\"].sum()\n",
    "\n",
    "# Si calcola la percentuale di prestiti di ogni stato rispetto alla somma totale\n",
    "df_overall_borrowed[\"perc_borrow\"] = (df_overall_borrowed[\"tot_borrow\"]/tot_borrow)*100"
   ]
  },
  {
   "cell_type": "code",
   "execution_count": null,
   "metadata": {},
   "outputs": [],
   "source": [
    "df_overall_borrowed.head()"
   ]
  },
  {
   "cell_type": "markdown",
   "metadata": {},
   "source": [
    "### 7. Like the three previous points, but split for each year (with respect to disburse time)."
   ]
  },
  {
   "cell_type": "code",
   "execution_count": null,
   "metadata": {
    "scrolled": true
   },
   "outputs": [],
   "source": [
    "# Alcune osservazioni sono mancanti per la colonna disburse_time.\n",
    "# Si vedono le proporzioni di quesi valori mancanti rispetto a tutto il dataset\n",
    "# sia per il numero di righe che per l'ammontare del prestito a cui non è associato nessuna data.\n",
    "\n",
    "df_missing_disburse_time = df_loans[df_loans['disburse_time'].isna()]\n",
    "\n",
    "row_missing = df_missing_disburse_time.shape[0]\n",
    "loan_amount_missing = df_missing_disburse_time['loan_amount'].sum()\n",
    "\n",
    "# Osservazioni mancanti rispetto alle righe del dataset\n",
    "print(f\"Righe totali del dataset: {format(df_loans.shape[0], ',d')}\")\n",
    "print(f\"Righe mancanti: {format(row_missing, ',d')}\")\n",
    "print(f\"Percentuale di righe mancanti: {round(((row_missing/df_loans.shape[0])*100), 3)}%\\n\")\n",
    "\n",
    "# Osservazioni mancanti rispetto ai prestiti\n",
    "print(f\"Totale prestiti: {format(df_loans['loan_amount'].sum(), ',.3f')}\")\n",
    "print(f\"Prestiti senza anno: {format(loan_amount_missing, ',.3f')}\")\n",
    "print(f\"Percentuale prestiti senza anno: {format(round(((loan_amount_missing/df_loans['loan_amount'].sum())*100), 3), '.3f')}%\")"
   ]
  },
  {
   "cell_type": "code",
   "execution_count": null,
   "metadata": {
    "scrolled": true
   },
   "outputs": [],
   "source": [
    "# Dato l'esiguo numero di valori mancanti si è scelto di non operare nessuna sostituzione di tali valori\n",
    "# ma di considerarli invece allo stesso livello dei gruppi degli anni.\n",
    "\n",
    "# Si effettua il group by sulla data da cui è stato estratto l'anno. Si usa dt per gestire le date nelle \n",
    "# pandas Series. Per ogni gruppo si calcolano il numero di righe e la somma dei loan\n",
    "df_group = df_loans.groupby(df_loans[\"disburse_time\"].dt.year)[\"loan_amount\"].agg([('count', 'count'), \n",
    "                                                                            ('loan_amount', 'sum')])\n",
    "\n",
    "# Cast degli anni ad intero\n",
    "df_group.index = df_group.index.astype(int)\n",
    "\n",
    "# Al dataset finale si aggiunge una riga con le statistiche per le osservazioni mancanti.\n",
    "df_group = df_group.append(pd.Series({'count':row_missing, \n",
    "                                      'loan_amount':loan_amount_missing}, name=\"missing_year\"))\n",
    "\n",
    "# Si calcola la percentuale di loan amount per ogni anno riferita alla somma totale dei loans\n",
    "df_group[\"percentage_amount\"] = (df_group[\"loan_amount\"]/df_group[\"loan_amount\"].sum())*100\n",
    "\n",
    "\n",
    "df_group = df_group.reset_index()"
   ]
  },
  {
   "cell_type": "code",
   "execution_count": null,
   "metadata": {},
   "outputs": [],
   "source": [
    "df_group.head()"
   ]
  },
  {
   "cell_type": "markdown",
   "metadata": {},
   "source": [
    "### 8. For each lender, compute the overall amount of money lent. For each loan that has more than one lender, you must assume that all lenders contributed the same amount."
   ]
  },
  {
   "cell_type": "code",
   "execution_count": null,
   "metadata": {},
   "outputs": [],
   "source": [
    "# Calcolo, per ogni loan, del numero dei suoi partecipanti\n",
    "df_n_lenders = df_loan_lender_norm.groupby('loan_id').count().reset_index()\n",
    "df_n_lenders = df_n_lenders.rename(columns= {'lenders': 'n_lenders'})\n",
    "df_n_lenders.head()"
   ]
  },
  {
   "cell_type": "code",
   "execution_count": null,
   "metadata": {
    "scrolled": false
   },
   "outputs": [],
   "source": [
    "# Calcolo, per ogni loan, del numero dei suoi partecipanti\n",
    "df_n_lenders = df_loan_lender_norm.groupby('loan_id').count().reset_index()\n",
    "df_n_lenders = df_n_lenders.rename(columns= {'lenders': 'n_lenders'})\n",
    "\n",
    "# merge dei dataframe\n",
    "df_merge = pd.merge(df_loans[['loan_id', 'loan_amount']], df_loan_lender_norm, on=\"loan_id\")\n",
    "df_merge = pd.merge(df_merge, df_n_lenders, on=\"loan_id\")\n",
    "\n",
    "# Calcolo dell'ammontare di ogni prestatore per ogni prestito in modo equo\n",
    "df_merge['amount_per_lender'] = df_merge['loan_amount'] / df_merge[\"n_lenders\"]\n",
    "\n",
    "# Raggruppo per lender e calcolo la somma dei prestiti dati\n",
    "df_groupby = df_merge.groupby(\"lenders\")[\"amount_per_lender\"].sum().reset_index()"
   ]
  },
  {
   "cell_type": "code",
   "execution_count": null,
   "metadata": {},
   "outputs": [],
   "source": [
    "df_groupby.head()"
   ]
  },
  {
   "cell_type": "markdown",
   "metadata": {},
   "source": [
    "### 9. For each country, compute the difference between the overall amount of money lent and the overall amount of money borrowed. Since the country of the lender is often unknown, you can assume that the true distribution among the countries is the same as the one computed from the rows where the country is known."
   ]
  },
  {
   "cell_type": "code",
   "execution_count": null,
   "metadata": {},
   "outputs": [],
   "source": [
    "# Nel dataset c'è un numero elevato di dati mancanti per la colonna country_code\n",
    "df_lenders.info(null_counts=True)\n",
    "\n",
    "print(\"\\n--------------------------------------------------------------\\n\")\n",
    "\n",
    "# Inoltre si vede che nel dataset dei loans la colonna country_code ha 9 valori mancanti, \n",
    "# mentre country_name non ne ha \n",
    "df_loans.info()"
   ]
  },
  {
   "cell_type": "code",
   "execution_count": null,
   "metadata": {},
   "outputs": [],
   "source": [
    "# I valori mancanti in df_loans sono associati tutti allo stato della Namibia\n",
    "df_loans[df_loans['country_code'].isna()]"
   ]
  },
  {
   "cell_type": "code",
   "execution_count": null,
   "metadata": {},
   "outputs": [],
   "source": [
    "# Analogo discorso per i record dei lenders, dove tutti i valori della Namibia sono mancanti\n",
    "df_lenders[df_lenders['state']=='Namibia']"
   ]
  },
  {
   "cell_type": "code",
   "execution_count": null,
   "metadata": {},
   "outputs": [],
   "source": [
    "# Per evitare di perdere tutte le informazioni legate ad un intero paese,\n",
    "# solo in questo caso si procede con un rimpiazzo manuale dei missing value\n",
    "df_lenders.loc[df_lenders['state']=='Namibia', 'country_code'] = 'Namibia'\n",
    "df_loans.loc[df_loans['country_code'].isna(), 'country_code'] = 'Namibia'"
   ]
  },
  {
   "cell_type": "code",
   "execution_count": null,
   "metadata": {},
   "outputs": [],
   "source": [
    "# Si separano i lenders con valore di country_code presente dai lenders con valore country_code mancante\n",
    "df_lenders_no_na = df_lenders[df_lenders['country_code'].notna()]\n",
    "\n",
    "# Si ottiene una serie di booleani per poter eseguire la sostistuzione dei valori mancanti successivamente\n",
    "sr_lenders_na = df_lenders['country_code'].isna()"
   ]
  },
  {
   "cell_type": "code",
   "execution_count": null,
   "metadata": {},
   "outputs": [],
   "source": [
    "# Si trova la distribuzione dei lender con valore di country_code presente \n",
    "# utilizzando l'opzione normalize di value_count che calcola la frequenza relativa dei valori\n",
    "sr_state_distr = df_lenders_no_na['country_code'].value_counts(normalize=True)\n",
    "\n",
    "# Si usa la distribuzione trovata per assegnare lo stato per i valori mancanti di country_code.\n",
    "# Si usa la funzione choice utilizzando come valori i codici dei paesi, come dimensione del campione la somma dei\n",
    "# booleani della serie che distingue tra codice na e non na e per probabilità la distribuzione trovata.\n",
    "df_lenders.loc[sr_lenders_na, \"country_code\"] = np.random.choice(sr_state_distr.index, size=sum(sr_lenders_na), \n",
    "                                                                 p=sr_state_distr.values)"
   ]
  },
  {
   "cell_type": "code",
   "execution_count": null,
   "metadata": {},
   "outputs": [],
   "source": [
    "# si verifico che non ci siano valori ancanti\n",
    "sum(df_lenders.country_code.isna())"
   ]
  },
  {
   "cell_type": "code",
   "execution_count": null,
   "metadata": {},
   "outputs": [],
   "source": [
    "# Si effettua il merge dei lenders con quanto hanno prestato in totale\n",
    "df_lent = pd.merge(df_lenders, df_groupby, left_on='permanent_name', right_on='lenders')"
   ]
  },
  {
   "cell_type": "code",
   "execution_count": null,
   "metadata": {},
   "outputs": [],
   "source": [
    "# Si sommano i prestiti raggruppati per paese\n",
    "df_lent_country = df_lent.groupby('country_code')['amount_per_lender'].sum().reset_index(name='amount_lent')"
   ]
  },
  {
   "cell_type": "code",
   "execution_count": null,
   "metadata": {},
   "outputs": [],
   "source": [
    "df_lent_country.head()"
   ]
  },
  {
   "cell_type": "code",
   "execution_count": null,
   "metadata": {},
   "outputs": [],
   "source": [
    "# Si calcola il totale dei prestiti ricevuti per ogni paese\n",
    "df_borrowed = df_loans.groupby('country_code')['loan_amount'].sum().reset_index(name='borrowed')"
   ]
  },
  {
   "cell_type": "code",
   "execution_count": null,
   "metadata": {},
   "outputs": [],
   "source": [
    "df_borrowed.head()"
   ]
  },
  {
   "cell_type": "code",
   "execution_count": null,
   "metadata": {
    "scrolled": false
   },
   "outputs": [],
   "source": [
    "# Si effettua il merge dei due dataset\n",
    "df_merge = pd.merge(df_lent_country, df_borrowed, on=\"country_code\", how='outer')\n",
    "\n",
    "# Si sostituiscono i valori mancanti con 0\n",
    "df_merge.fillna(0, inplace=True)\n",
    "\n",
    "# Si calcola la differenza tra il denaro prestato e quello preso in prestito\n",
    "df_merge['diff_lent-borrowed'] = df_merge['amount_lent'] - df_merge['borrowed']"
   ]
  },
  {
   "cell_type": "code",
   "execution_count": null,
   "metadata": {},
   "outputs": [],
   "source": [
    "df_merge.head()"
   ]
  },
  {
   "cell_type": "markdown",
   "metadata": {},
   "source": [
    "### 10. Which country has the highest ratio between the difference computed at the previous point and the population?"
   ]
  },
  {
   "cell_type": "code",
   "execution_count": null,
   "metadata": {},
   "outputs": [],
   "source": [
    "# Come nel punto precedente, il codice dello stato della Namibia è assente\n",
    "df_country_stats[df_country_stats['country_name'] == 'Namibia']"
   ]
  },
  {
   "cell_type": "code",
   "execution_count": null,
   "metadata": {},
   "outputs": [],
   "source": [
    "# Per non perdere le sue informazioni lo si inserisce manualmente\n",
    "df_country_stats.loc[df_country_stats['country_name'] == 'Namibia', 'country_code'] = 'Namibia'"
   ]
  },
  {
   "cell_type": "code",
   "execution_count": null,
   "metadata": {},
   "outputs": [],
   "source": [
    "# Si effettua il merge del dataset delle informazioni degli stati con quello della differenza di prestiti \n",
    "# calcolato al punto precedente\n",
    "df_money_state = pd.merge(df_merge, df_country_stats, on=\"country_code\")\n",
    "\n",
    "# Calcolo del rapporto richiesto\n",
    "df_money_state['ratio_diff_L-B_pop'] = df_money_state['diff_lent-borrowed']/df_money_state['population']"
   ]
  },
  {
   "cell_type": "code",
   "execution_count": null,
   "metadata": {},
   "outputs": [],
   "source": [
    "df_money_state.head()"
   ]
  },
  {
   "cell_type": "code",
   "execution_count": null,
   "metadata": {},
   "outputs": [],
   "source": [
    "# Si trova lo stato con il rapport più grande\n",
    "df_money_state.iloc[[df_money_state['ratio_diff_L-B_pop'].idxmax()]]"
   ]
  },
  {
   "cell_type": "markdown",
   "metadata": {},
   "source": [
    "### 11. Which country has the highest ratio between the difference computed at point 9 and the population that is not below the poverty line?"
   ]
  },
  {
   "cell_type": "code",
   "execution_count": null,
   "metadata": {},
   "outputs": [],
   "source": [
    "# La colonna population_below_poverty_line è espressa in percentuale,\n",
    "# Si calcola la percentuale di persone sopra la soglia di poverà\n",
    "df_money_state['population_above_poverty_line'] = 100 - df_money_state['population_below_poverty_line']\n",
    "\n",
    "# Si calcola la quantità di popolazione al di sotto della fascia di povertà utilizzando la popolazione totale \n",
    "# e la percentuale calcolata sopra\n",
    "pop_above_poverty_line = (df_money_state['population']*df_money_state['population_above_poverty_line'])/100\n",
    "\n",
    "# Si calcola il rapport richiesto\n",
    "df_money_state['ratio_diff_L-B_pop_above_poverty'] = df_money_state['diff_lent-borrowed']/pop_above_poverty_line"
   ]
  },
  {
   "cell_type": "code",
   "execution_count": null,
   "metadata": {},
   "outputs": [],
   "source": [
    "df_money_state.head()"
   ]
  },
  {
   "cell_type": "code",
   "execution_count": null,
   "metadata": {},
   "outputs": [],
   "source": [
    "# Si trova lo stato con il rapport più grande\n",
    "df_money_state.iloc[[df_money_state['ratio_diff_L-B_pop_above_poverty'].idxmax()]]"
   ]
  },
  {
   "cell_type": "markdown",
   "metadata": {},
   "source": [
    "### 12. For each year, compute the total amount of loans. Each loan that has planned expiration time and disburse time in different years must have its amount distributed proportionally to the number of days in each year. For example, a loan with disburse time December 1st, 2016, planned expiration time January 30th 2018, and amount 5000USD has an amount of 5000USD * 31 / (31+365+30) = 363.85 for 2016, 5000USD * 365 / (31+365+30) = 4284.04 for 2017, and 5000USD * 30 / (31+365+30) = 352.11 for 2018."
   ]
  },
  {
   "cell_type": "markdown",
   "metadata": {},
   "source": [
    "Ci sono tre possibili casi da considerare:\n",
    "1. i loans per cui le date di disburse_time e planned_expiration_time sono presenti e sono coerenti, \n",
    "   cioè quando planned_expiration_time > disburse_time\n",
    "2. i loans in cui le due date sono presenti ma si ha planned_expiration_time > disburse_time\n",
    "3. i loans per cui almeno una delle due date non è presente\n",
    "\n",
    "Il primo passaggio consiste ne separare le righe del caso 3 dalle altre, per questi loans non è possibile \n",
    "calcolare i dati richiesti, si sostiuiranno i dati mancanti con 0.\n",
    "\n",
    "Il passo successivo sarà distinguere i loans appartenenti al caso 1 da quelli appartenenti al caso 2,\n",
    "nel primo caso si procederà per il calcolo dell'ammontere per anno.\n",
    "\n",
    "Per i lenders che appartengono al caso 2, dato che non è possibile ricevere un prestito dopo la data della \n",
    "sua scadenza, si considerano i due valori come identici, in particolare uguali a disburse_time."
   ]
  },
  {
   "cell_type": "code",
   "execution_count": null,
   "metadata": {},
   "outputs": [],
   "source": [
    "# Si separano i lender con valori mancanti dagli altri\n",
    "df_loans_na = df_loans[df_loans[\"disburse_time\"].isna() | df_loans['planned_expiration_time'].isna()]\n",
    "df_loans_no_na = df_loans.dropna(subset=[\"disburse_time\", \"planned_expiration_time\"])"
   ]
  },
  {
   "cell_type": "code",
   "execution_count": null,
   "metadata": {},
   "outputs": [],
   "source": [
    "# info dei due dataframe\n",
    "df_loans_na.info()\n",
    "print()\n",
    "print(\"-------------------------------------------------------------\")\n",
    "print()\n",
    "df_loans_no_na.info()"
   ]
  },
  {
   "cell_type": "code",
   "execution_count": null,
   "metadata": {},
   "outputs": [],
   "source": [
    "# Si gestiscono i casi in cui le due date non sono corenti\n",
    "loans_inc = df_loans_no_na['disburse_time'] > df_loans_no_na['planned_expiration_time']\n",
    "\n",
    "df_loans_no_na.loc[loans_inc, 'planned_expiration_time'] = df_loans_no_na.loc[loans_inc, 'disburse_time']"
   ]
  },
  {
   "cell_type": "code",
   "execution_count": null,
   "metadata": {},
   "outputs": [],
   "source": [
    "def get_amount_x_year(row):\n",
    "    '''\n",
    "    Riceve in input una riga del dataset e calcola, per ogni anno tra disburse_time e planned_expiration_time,\n",
    "    la quantità di giorni di quell'anno. Nel caso di disburse_time considera i giorni dalla data fino alla fine \n",
    "    dell'anno, nel caso di planned_expiration_time considera i giorni passati dall'inizio dell'anno alla data in \n",
    "    questione. Ritorna un dizionario le cui chiavi sono gli anni all'interno del periodo considerato e i valori\n",
    "    sono l'ammontare del loan per quell'anno dell'anno calcolati come descritto.\n",
    "    \n",
    "    ...\n",
    "\n",
    "    Parameters\n",
    "    ----------\n",
    "    row : pandas.core.series.Series\n",
    "        La riga del dataset\n",
    "    \n",
    "    \n",
    "    Returns\n",
    "    -------\n",
    "    dict\n",
    "        dizionario di con le informazioni del loan(id, name, amount), i giorni del prestito e per ogni anno\n",
    "        l'importo in base ai giorni trascorsi\n",
    "    '''\n",
    "    \n",
    "    # Si estraggono gli anni in mezzo\n",
    "    planned = row[\"planned_expiration_time\"]\n",
    "    disburse = row[\"disburse_time\"]\n",
    "    \n",
    "    # Calcolo degli anni tra disburse e planned esclusi loro stessi\n",
    "    range_year = list(range(disburse.year + 1, planned.year))\n",
    "    \n",
    "    tot_amount = row['loan_amount']\n",
    "    tot_days = (planned - disburse).days + 1\n",
    "    \n",
    "    amount_x_year = dict()\n",
    "    \n",
    "    # Si inseriscono i dati iniziali del prestito\n",
    "    amount_x_year.update({\n",
    "        'loan_id': row['loan_id'], \n",
    "        'loan_name': row['loan_name'], \n",
    "        'loan_amount': tot_amount,\n",
    "        'days_loan': tot_days\n",
    "    })\n",
    "    \n",
    "    # Se planned e disburse hanno lo stesso anno, considero solo la loro differenza in giorni\n",
    "    if planned.year == disburse.year:\n",
    "        amount_x_year[planned.year] = tot_amount\n",
    "        \n",
    "    # Altrimenti se gli anni sono differenti si aggiungono entrambi\n",
    "    else:\n",
    "        # Per disburse devo calcolare quelli che rimangono fino alla fine dell'anno,\n",
    "        # Si calcolano i giorni totali dell'anno in questione che vengono tolti ai giorni dell'anno passati \n",
    "        # fino a disburse\n",
    "        days_x_year = pd.Period(\"{}-12-31\".format(disburse.year)).dayofyear - disburse.dayofyear\n",
    "        \n",
    "        # Calcolo dell'ammontare per l'anno disburse\n",
    "        amount_x_year[disburse.year] = tot_amount*(days_x_year/tot_days)\n",
    "        \n",
    "        # Per planned si calcolano i giorni passati fino alla data in questione\n",
    "        # e l'ammontare per l'anno planned\n",
    "        amount_x_year[planned.year] = tot_amount*((planned.dayofyear)/tot_days)\n",
    "        \n",
    "        # Per gli anni all'interno del range aggiungo coppia (anno, ammontere per quell'anno) al dict\n",
    "        if range_year:\n",
    "            amount_x_year.update({\n",
    "                k: tot_amount*(pd.Period(\"{}-12-31\".format(k)).dayofyear/tot_days) for k in range_year\n",
    "            })\n",
    "            \n",
    "    return amount_x_year\n"
   ]
  },
  {
   "cell_type": "code",
   "execution_count": null,
   "metadata": {},
   "outputs": [],
   "source": [
    "# Calcolo del prestito per ogni anno\n",
    "res = df_loans_no_na.apply(lambda x: get_amount_x_year(x), axis=1)"
   ]
  },
  {
   "cell_type": "code",
   "execution_count": null,
   "metadata": {},
   "outputs": [],
   "source": [
    "# Creazione del dataframe e riordino delle colonne\n",
    "df_res = pd.DataFrame(list(res))\n",
    "df_res.columns = list(map(str, df_res.columns))\n",
    "cols_reorder = ['loan_id', 'loan_name', 'loan_amount', 'days_loan', '2011', \n",
    "                '2012', '2013', '2014', '2015', '2016', '2017', '2018']\n",
    "df_res = df_res.reindex(cols_reorder, axis=1)\n"
   ]
  },
  {
   "cell_type": "code",
   "execution_count": null,
   "metadata": {},
   "outputs": [],
   "source": [
    "df_res.head()"
   ]
  },
  {
   "cell_type": "code",
   "execution_count": null,
   "metadata": {},
   "outputs": [],
   "source": [
    "# Gestione dei record con almeno una delle due date mancanti, si creano le colonne degli anni e dei giorni passati\n",
    "# che contengono solo 0\n",
    "df_na_sel = df_loans_na[['loan_id', 'loan_name','loan_amount']]\n",
    "df_na_sel[['days_loan', '2011', '2012', '2013', '2014', '2015', '2016', '2017', '2018']] = pd.DataFrame(\n",
    "    [np.full([9], np.nan)], index=df_na_sel.index)"
   ]
  },
  {
   "cell_type": "code",
   "execution_count": null,
   "metadata": {},
   "outputs": [],
   "source": [
    "# Concatenazione dei due dataset\n",
    "df_res = pd.concat([df_res, df_na_sel])"
   ]
  },
  {
   "cell_type": "code",
   "execution_count": null,
   "metadata": {},
   "outputs": [],
   "source": [
    "df_res.head()"
   ]
  },
  {
   "cell_type": "code",
   "execution_count": null,
   "metadata": {},
   "outputs": [],
   "source": [
    "df_res[['2011', '2012', '2013', '2014', '2015', '2016', '2017', '2018']].sum().reset_index(name ='Total Amount')"
   ]
  }
 ],
 "metadata": {
  "kernelspec": {
   "display_name": "Python 3",
   "language": "python",
   "name": "python3"
  },
  "language_info": {
   "codemirror_mode": {
    "name": "ipython",
    "version": 3
   },
   "file_extension": ".py",
   "mimetype": "text/x-python",
   "name": "python",
   "nbconvert_exporter": "python",
   "pygments_lexer": "ipython3",
   "version": "3.6.10"
  }
 },
 "nbformat": 4,
 "nbformat_minor": 4
}
